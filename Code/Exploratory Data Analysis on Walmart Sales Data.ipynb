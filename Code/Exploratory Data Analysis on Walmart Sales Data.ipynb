{
 "cells": [
  {
   "cell_type": "markdown",
   "id": "c610145b",
   "metadata": {
    "id": "vZdAxzDxSMx6",
    "papermill": {
     "duration": 0.014831,
     "end_time": "2022-11-28T18:26:31.207507",
     "exception": false,
     "start_time": "2022-11-28T18:26:31.192676",
     "status": "completed"
    },
    "tags": []
   },
   "source": [
    "\n",
    "<font color='blue'>\n",
    "<h1 align=\"center\"> Walmart Weekly Sales Prediction\n",
    "</font>\n"
   ]
  },
  {
   "cell_type": "markdown",
   "id": "49063ec8",
   "metadata": {
    "id": "pKnaSOCJVPYX",
    "papermill": {
     "duration": 0.014705,
     "end_time": "2022-11-28T18:26:31.235433",
     "exception": false,
     "start_time": "2022-11-28T18:26:31.220728",
     "status": "completed"
    },
    "tags": []
   },
   "source": [
    "\n",
    "\n",
    "[Walmart Weekly Sales Prediction](https://www.kaggle.com/datasets/varsharam/walmart-sales-dataset-of-45stores)\n",
    "\n",
    "* Perform Exploratory Data Analysis of Weekly Sale Data to find insights\n",
    "\n",
    "* Develop model to predict Weekly Sale using given features.\n",
    "\n"
   ]
  },
  {
   "cell_type": "markdown",
   "id": "d470e63d",
   "metadata": {
    "id": "2vojdycEVTCI",
    "papermill": {
     "duration": 0.018513,
     "end_time": "2022-11-28T18:26:31.268892",
     "exception": false,
     "start_time": "2022-11-28T18:26:31.250379",
     "status": "completed"
    },
    "tags": []
   },
   "source": [
    "<font color='blue'>\n",
    "<h1> 1. Import Required Libraries\n",
    "</font>"
   ]
  },
  {
   "cell_type": "code",
   "execution_count": 39,
   "id": "7bb3421c",
   "metadata": {
    "execution": {
     "iopub.execute_input": "2022-11-28T18:26:31.310007Z",
     "iopub.status.busy": "2022-11-28T18:26:31.309167Z",
     "iopub.status.idle": "2022-11-28T18:26:32.998804Z",
     "shell.execute_reply": "2022-11-28T18:26:32.997470Z"
    },
    "id": "T9WwvXxsTj4L",
    "papermill": {
     "duration": 1.71577,
     "end_time": "2022-11-28T18:26:33.002113",
     "exception": false,
     "start_time": "2022-11-28T18:26:31.286343",
     "status": "completed"
    },
    "tags": []
   },
   "outputs": [],
   "source": [
    "# 1.0 Load Libraries\n",
    "\n",
    "# 1.1 Data Manipulation\n",
    "import numpy as np\n",
    "import pandas as pd\n",
    "import seaborn as sns\n",
    "import matplotlib.pyplot as plt\n",
    "from sklearn.model_selection import train_test_split\n",
    "from sklearn.metrics import mean_absolute_error\n",
    "from sklearn.metrics import mean_squared_error\n",
    "from sklearn.metrics import r2_score\n",
    "from sklearn.metrics import explained_variance_score\n",
    "from sklearn.model_selection import cross_validate\n",
    "from sklearn.ensemble import RandomForestRegressor\n",
    "from sklearn.preprocessing import OneHotEncoder\n",
    "from sklearn.preprocessing import StandardScaler\n",
    "from sklearn.model_selection import GridSearchCV"
   ]
  },
  {
   "cell_type": "code",
   "execution_count": 40,
   "id": "0570bea6",
   "metadata": {
    "execution": {
     "iopub.execute_input": "2022-11-28T18:26:33.030910Z",
     "iopub.status.busy": "2022-11-28T18:26:33.030487Z",
     "iopub.status.idle": "2022-11-28T18:26:33.036427Z",
     "shell.execute_reply": "2022-11-28T18:26:33.035133Z"
    },
    "id": "pjaXIlpoSIQR",
    "papermill": {
     "duration": 0.023857,
     "end_time": "2022-11-28T18:26:33.039067",
     "exception": false,
     "start_time": "2022-11-28T18:26:33.015210",
     "status": "completed"
    },
    "tags": []
   },
   "outputs": [],
   "source": [
    "# 2.0 To display output of multiple commands from single cell\n",
    "from IPython.core.interactiveshell import InteractiveShell\n",
    "InteractiveShell.ast_node_interactivity = \"all\""
   ]
  },
  {
   "cell_type": "markdown",
   "id": "96ce0930",
   "metadata": {
    "id": "PQ7_nGiqVagO",
    "papermill": {
     "duration": 0.013519,
     "end_time": "2022-11-28T18:26:33.067900",
     "exception": false,
     "start_time": "2022-11-28T18:26:33.054381",
     "status": "completed"
    },
    "tags": []
   },
   "source": [
    "<font color='blue'>\n",
    "<h1> 2. Load Data Set\n",
    "</font>"
   ]
  },
  {
   "cell_type": "code",
   "execution_count": 41,
   "id": "fa9c181d",
   "metadata": {
    "execution": {
     "iopub.execute_input": "2022-11-28T18:26:33.097248Z",
     "iopub.status.busy": "2022-11-28T18:26:33.096834Z",
     "iopub.status.idle": "2022-11-28T18:26:33.147310Z",
     "shell.execute_reply": "2022-11-28T18:26:33.145839Z"
    },
    "id": "tQtFhusbVYjE",
    "outputId": "df71fbeb-b9e3-47cd-e1d2-729052d1d734",
    "papermill": {
     "duration": 0.068636,
     "end_time": "2022-11-28T18:26:33.150264",
     "exception": false,
     "start_time": "2022-11-28T18:26:33.081628",
     "status": "completed"
    },
    "tags": []
   },
   "outputs": [],
   "source": [
    "#2 Load the data\n",
    "### Connect to gdrive\n",
    "#from google.colab import drive\n",
    "#drive.mount('/gdrive')\n",
    "\n",
    "### Read File\n",
    "df_wm = pd.read_csv(\"/Users/aishwarya/Downloads/walmart-sales-dataset-of-45stores 2.csv\")"
   ]
  },
  {
   "cell_type": "markdown",
   "id": "f3bf869b",
   "metadata": {
    "id": "_hOk_cdKI90s",
    "papermill": {
     "duration": 0.013369,
     "end_time": "2022-11-28T18:26:33.177250",
     "exception": false,
     "start_time": "2022-11-28T18:26:33.163881",
     "status": "completed"
    },
    "tags": []
   },
   "source": [
    "<font color='blue'>\n",
    "<h2> 3. Data Set Information\n",
    "</font>\n",
    "<h3> * The dataset has 6435 rows and 8 columns\n",
    "\n",
    "<h3> * Sales Data\n",
    "<h4>Store --- Store ID (1 to 45)<br>\n",
    "Date --- Wed / Thursday when weekly sale was computed (for previous 7 days)<br>\n",
    "Weekly_Sales  --- Weekly Sale in Dollars<br>\n",
    "\n",
    "<h3> * Sale Influencing Factors\n",
    "<h4>Holiday Flag --- Holiday (1) or Not (0)<br>\n",
    "Temperature --- Average Temprature for the week in Fahrenheit<br>\n",
    "Fuel_Price --- Average Fuel Price for the week in Dolalrs<br>\n",
    "CPI ---- Consumer Price Index<br>\n",
    "\n",
    "[CPI More Info](https://www.investopedia.com/terms/c/consumerpriceindex.asp) \n",
    "\n",
    "Unemployment --- US monthly unemployment rate<br>\n",
    "\n",
    "[Unemployment More Info](https://www.investopedia.com/ask/answers/063015/how-does-us-bureau-labor-statistics-calculate-unemployment-rate-published-monthly.asp)"
   ]
  },
  {
   "cell_type": "code",
   "execution_count": 42,
   "id": "aae61bb9",
   "metadata": {},
   "outputs": [
    {
     "data": {
      "text/html": [
       "<div>\n",
       "<style scoped>\n",
       "    .dataframe tbody tr th:only-of-type {\n",
       "        vertical-align: middle;\n",
       "    }\n",
       "\n",
       "    .dataframe tbody tr th {\n",
       "        vertical-align: top;\n",
       "    }\n",
       "\n",
       "    .dataframe thead th {\n",
       "        text-align: right;\n",
       "    }\n",
       "</style>\n",
       "<table border=\"1\" class=\"dataframe\">\n",
       "  <thead>\n",
       "    <tr style=\"text-align: right;\">\n",
       "      <th></th>\n",
       "      <th>Store</th>\n",
       "      <th>Date</th>\n",
       "      <th>Weekly_Sales</th>\n",
       "      <th>Holiday_Flag</th>\n",
       "      <th>Temperature</th>\n",
       "      <th>Fuel_Price</th>\n",
       "      <th>CPI</th>\n",
       "      <th>Unemployment</th>\n",
       "    </tr>\n",
       "  </thead>\n",
       "  <tbody>\n",
       "    <tr>\n",
       "      <th>0</th>\n",
       "      <td>1</td>\n",
       "      <td>05-02-2010</td>\n",
       "      <td>1643690.90</td>\n",
       "      <td>0</td>\n",
       "      <td>42.31</td>\n",
       "      <td>2.572</td>\n",
       "      <td>211.096358</td>\n",
       "      <td>8.106</td>\n",
       "    </tr>\n",
       "    <tr>\n",
       "      <th>1</th>\n",
       "      <td>1</td>\n",
       "      <td>12-02-2010</td>\n",
       "      <td>1641957.44</td>\n",
       "      <td>1</td>\n",
       "      <td>38.51</td>\n",
       "      <td>2.548</td>\n",
       "      <td>211.242170</td>\n",
       "      <td>8.106</td>\n",
       "    </tr>\n",
       "    <tr>\n",
       "      <th>2</th>\n",
       "      <td>1</td>\n",
       "      <td>19-02-2010</td>\n",
       "      <td>1611968.17</td>\n",
       "      <td>0</td>\n",
       "      <td>39.93</td>\n",
       "      <td>2.514</td>\n",
       "      <td>211.289143</td>\n",
       "      <td>8.106</td>\n",
       "    </tr>\n",
       "    <tr>\n",
       "      <th>3</th>\n",
       "      <td>1</td>\n",
       "      <td>26-02-2010</td>\n",
       "      <td>1409727.59</td>\n",
       "      <td>0</td>\n",
       "      <td>46.63</td>\n",
       "      <td>2.561</td>\n",
       "      <td>211.319643</td>\n",
       "      <td>8.106</td>\n",
       "    </tr>\n",
       "    <tr>\n",
       "      <th>4</th>\n",
       "      <td>1</td>\n",
       "      <td>05-03-2010</td>\n",
       "      <td>1554806.68</td>\n",
       "      <td>0</td>\n",
       "      <td>46.50</td>\n",
       "      <td>2.625</td>\n",
       "      <td>211.350143</td>\n",
       "      <td>8.106</td>\n",
       "    </tr>\n",
       "  </tbody>\n",
       "</table>\n",
       "</div>"
      ],
      "text/plain": [
       "   Store        Date  Weekly_Sales  Holiday_Flag  Temperature  Fuel_Price  \\\n",
       "0      1  05-02-2010    1643690.90             0        42.31       2.572   \n",
       "1      1  12-02-2010    1641957.44             1        38.51       2.548   \n",
       "2      1  19-02-2010    1611968.17             0        39.93       2.514   \n",
       "3      1  26-02-2010    1409727.59             0        46.63       2.561   \n",
       "4      1  05-03-2010    1554806.68             0        46.50       2.625   \n",
       "\n",
       "          CPI  Unemployment  \n",
       "0  211.096358         8.106  \n",
       "1  211.242170         8.106  \n",
       "2  211.289143         8.106  \n",
       "3  211.319643         8.106  \n",
       "4  211.350143         8.106  "
      ]
     },
     "execution_count": 42,
     "metadata": {},
     "output_type": "execute_result"
    }
   ],
   "source": [
    "df_wm.head()\n"
   ]
  },
  {
   "cell_type": "markdown",
   "id": "8b6a8d42",
   "metadata": {
    "id": "SmZharE0G9L9",
    "papermill": {
     "duration": 0.012914,
     "end_time": "2022-11-28T18:26:33.204660",
     "exception": false,
     "start_time": "2022-11-28T18:26:33.191746",
     "status": "completed"
    },
    "tags": []
   },
   "source": [
    "<font color='blue'>\n",
    "<h1> 4 Data Types Analysis and Memory Optimization \n",
    "</font>"
   ]
  },
  {
   "cell_type": "markdown",
   "id": "c08c3b47",
   "metadata": {
    "id": "EeSjE3_VIz3M",
    "papermill": {
     "duration": 0.012953,
     "end_time": "2022-11-28T18:26:33.230356",
     "exception": false,
     "start_time": "2022-11-28T18:26:33.217403",
     "status": "completed"
    },
    "tags": []
   },
   "source": [
    "<font color='blue'>\n",
    "<h2> 4.1 Original Data Set\n",
    "</font>"
   ]
  },
  {
   "cell_type": "code",
   "execution_count": 43,
   "id": "44e7bdab",
   "metadata": {
    "execution": {
     "iopub.execute_input": "2022-11-28T18:26:33.260088Z",
     "iopub.status.busy": "2022-11-28T18:26:33.259546Z",
     "iopub.status.idle": "2022-11-28T18:26:33.274411Z",
     "shell.execute_reply": "2022-11-28T18:26:33.273137Z"
    },
    "id": "rSbJdZARHVhd",
    "outputId": "22032fff-eb00-44de-c615-26f7c0fb3495",
    "papermill": {
     "duration": 0.033805,
     "end_time": "2022-11-28T18:26:33.277164",
     "exception": false,
     "start_time": "2022-11-28T18:26:33.243359",
     "status": "completed"
    },
    "tags": []
   },
   "outputs": [
    {
     "data": {
      "text/plain": [
       "Store             int64\n",
       "Date             object\n",
       "Weekly_Sales    float64\n",
       "Holiday_Flag      int64\n",
       "Temperature     float64\n",
       "Fuel_Price      float64\n",
       "CPI             float64\n",
       "Unemployment    float64\n",
       "dtype: object"
      ]
     },
     "execution_count": 43,
     "metadata": {},
     "output_type": "execute_result"
    }
   ],
   "source": [
    "df_wm.dtypes"
   ]
  },
  {
   "cell_type": "markdown",
   "id": "7f3ac43a",
   "metadata": {
    "id": "LZucXM07Hdyv",
    "papermill": {
     "duration": 0.012671,
     "end_time": "2022-11-28T18:26:33.302856",
     "exception": false,
     "start_time": "2022-11-28T18:26:33.290185",
     "status": "completed"
    },
    "tags": []
   },
   "source": [
    "<font color='blue'>\n",
    "<h2> 4.2 Change These Fields to categorical\n",
    "</font>\n",
    "\n",
    "Holiday_Flag --- Yes (1) / No (0)<br>\n",
    "Store --- ID of store 1 to 45<br>"
   ]
  },
  {
   "cell_type": "code",
   "execution_count": 44,
   "id": "48c410eb",
   "metadata": {
    "execution": {
     "iopub.execute_input": "2022-11-28T18:26:33.330557Z",
     "iopub.status.busy": "2022-11-28T18:26:33.330117Z",
     "iopub.status.idle": "2022-11-28T18:26:33.349319Z",
     "shell.execute_reply": "2022-11-28T18:26:33.347873Z"
    },
    "id": "t_COoVJtHxS6",
    "papermill": {
     "duration": 0.036415,
     "end_time": "2022-11-28T18:26:33.352228",
     "exception": false,
     "start_time": "2022-11-28T18:26:33.315813",
     "status": "completed"
    },
    "tags": []
   },
   "outputs": [],
   "source": [
    "#df_wm['Holiday_Flag'].unique()\n",
    "df_wm['Holiday_Flag'] = df_wm['Holiday_Flag'].astype('category')\n",
    "#df_wm['Store'].unique()\n",
    "df_wm['Store'] = df_wm['Store'].astype('category')"
   ]
  },
  {
   "cell_type": "markdown",
   "id": "a7dab7b2",
   "metadata": {
    "id": "O-DlMdMgIpLp",
    "papermill": {
     "duration": 0.012954,
     "end_time": "2022-11-28T18:26:33.378407",
     "exception": false,
     "start_time": "2022-11-28T18:26:33.365453",
     "status": "completed"
    },
    "tags": []
   },
   "source": [
    "<font color='blue'>\n",
    "<h2> 4.3 Check value range to Change large data types to smaller\n",
    "</font>"
   ]
  },
  {
   "cell_type": "code",
   "execution_count": 45,
   "id": "4fd97f68",
   "metadata": {
    "execution": {
     "iopub.execute_input": "2022-11-28T18:26:33.406293Z",
     "iopub.status.busy": "2022-11-28T18:26:33.405895Z",
     "iopub.status.idle": "2022-11-28T18:26:33.411784Z",
     "shell.execute_reply": "2022-11-28T18:26:33.410507Z"
    },
    "id": "gkELGMuiZ-AJ",
    "papermill": {
     "duration": 0.022783,
     "end_time": "2022-11-28T18:26:33.414164",
     "exception": false,
     "start_time": "2022-11-28T18:26:33.391381",
     "status": "completed"
    },
    "tags": []
   },
   "outputs": [],
   "source": [
    "def check_float(min_value,max_value):\n",
    "# float16 is too small to do any action on it like finding mean()\n",
    "#    if max_value < np.finfo('float16').max and min_value > np.finfo('float16').min: \n",
    "#       return 'float16'\n",
    "#    else:\n",
    "       if max_value < np.finfo('float32').max and min_value > np.finfo('float32').min:\n",
    "          return 'float32'\n",
    "       else:\n",
    "          return 'float64'"
   ]
  },
  {
   "cell_type": "code",
   "execution_count": 46,
   "id": "e08626b6",
   "metadata": {
    "execution": {
     "iopub.execute_input": "2022-11-28T18:26:33.443259Z",
     "iopub.status.busy": "2022-11-28T18:26:33.442865Z",
     "iopub.status.idle": "2022-11-28T18:26:33.457411Z",
     "shell.execute_reply": "2022-11-28T18:26:33.455877Z"
    },
    "id": "4YxVepjLas3e",
    "papermill": {
     "duration": 0.031831,
     "end_time": "2022-11-28T18:26:33.459916",
     "exception": false,
     "start_time": "2022-11-28T18:26:33.428085",
     "status": "completed"
    },
    "tags": []
   },
   "outputs": [],
   "source": [
    "df_wm['Weekly_Sales'] = df_wm['Weekly_Sales'].astype(check_float(df_wm['Weekly_Sales'].min(),df_wm['Weekly_Sales'].max()))\n",
    "df_wm['Temperature'] = df_wm['Temperature'].astype(check_float(df_wm['Temperature'].min(),df_wm['Temperature'].max()))\n",
    "df_wm['Fuel_Price'] = df_wm['Fuel_Price'].astype(check_float(df_wm['Fuel_Price'].min(),df_wm['Fuel_Price'].max()))\n",
    "df_wm['CPI'] = df_wm['CPI'].astype(check_float(df_wm['CPI'].min(),df_wm['CPI'].max()))\n",
    "df_wm['Unemployment'] = df_wm['Unemployment'].astype(check_float(df_wm['Unemployment'].min(),df_wm['Unemployment'].max()))"
   ]
  },
  {
   "cell_type": "markdown",
   "id": "420704dc",
   "metadata": {
    "id": "-mvvnEAzVctj",
    "papermill": {
     "duration": 0.013158,
     "end_time": "2022-11-28T18:26:33.487593",
     "exception": false,
     "start_time": "2022-11-28T18:26:33.474435",
     "status": "completed"
    },
    "tags": []
   },
   "source": [
    "<font color='blue'>\n",
    "<h2> 4.4 Change Date field from Object to Datetime\n",
    "</font>"
   ]
  },
  {
   "cell_type": "code",
   "execution_count": 47,
   "id": "399a6099",
   "metadata": {
    "execution": {
     "iopub.execute_input": "2022-11-28T18:26:33.516446Z",
     "iopub.status.busy": "2022-11-28T18:26:33.516019Z",
     "iopub.status.idle": "2022-11-28T18:26:33.527379Z",
     "shell.execute_reply": "2022-11-28T18:26:33.526150Z"
    },
    "id": "f_nGPUlkWE0v",
    "papermill": {
     "duration": 0.028839,
     "end_time": "2022-11-28T18:26:33.530191",
     "exception": false,
     "start_time": "2022-11-28T18:26:33.501352",
     "status": "completed"
    },
    "tags": []
   },
   "outputs": [
    {
     "name": "stderr",
     "output_type": "stream",
     "text": [
      "/Users/aishwarya/opt/anaconda3/lib/python3.9/site-packages/pandas/core/tools/datetimes.py:1047: UserWarning: Parsing '19-02-2010' in DD/MM/YYYY format. Provide format or specify infer_datetime_format=True for consistent parsing.\n",
      "  cache_array = _maybe_cache(arg, format, cache, convert_listlike)\n",
      "/Users/aishwarya/opt/anaconda3/lib/python3.9/site-packages/pandas/core/tools/datetimes.py:1047: UserWarning: Parsing '26-02-2010' in DD/MM/YYYY format. Provide format or specify infer_datetime_format=True for consistent parsing.\n",
      "  cache_array = _maybe_cache(arg, format, cache, convert_listlike)\n",
      "/Users/aishwarya/opt/anaconda3/lib/python3.9/site-packages/pandas/core/tools/datetimes.py:1047: UserWarning: Parsing '19-03-2010' in DD/MM/YYYY format. Provide format or specify infer_datetime_format=True for consistent parsing.\n",
      "  cache_array = _maybe_cache(arg, format, cache, convert_listlike)\n",
      "/Users/aishwarya/opt/anaconda3/lib/python3.9/site-packages/pandas/core/tools/datetimes.py:1047: UserWarning: Parsing '26-03-2010' in DD/MM/YYYY format. Provide format or specify infer_datetime_format=True for consistent parsing.\n",
      "  cache_array = _maybe_cache(arg, format, cache, convert_listlike)\n",
      "/Users/aishwarya/opt/anaconda3/lib/python3.9/site-packages/pandas/core/tools/datetimes.py:1047: UserWarning: Parsing '16-04-2010' in DD/MM/YYYY format. Provide format or specify infer_datetime_format=True for consistent parsing.\n",
      "  cache_array = _maybe_cache(arg, format, cache, convert_listlike)\n",
      "/Users/aishwarya/opt/anaconda3/lib/python3.9/site-packages/pandas/core/tools/datetimes.py:1047: UserWarning: Parsing '23-04-2010' in DD/MM/YYYY format. Provide format or specify infer_datetime_format=True for consistent parsing.\n",
      "  cache_array = _maybe_cache(arg, format, cache, convert_listlike)\n",
      "/Users/aishwarya/opt/anaconda3/lib/python3.9/site-packages/pandas/core/tools/datetimes.py:1047: UserWarning: Parsing '30-04-2010' in DD/MM/YYYY format. Provide format or specify infer_datetime_format=True for consistent parsing.\n",
      "  cache_array = _maybe_cache(arg, format, cache, convert_listlike)\n",
      "/Users/aishwarya/opt/anaconda3/lib/python3.9/site-packages/pandas/core/tools/datetimes.py:1047: UserWarning: Parsing '14-05-2010' in DD/MM/YYYY format. Provide format or specify infer_datetime_format=True for consistent parsing.\n",
      "  cache_array = _maybe_cache(arg, format, cache, convert_listlike)\n",
      "/Users/aishwarya/opt/anaconda3/lib/python3.9/site-packages/pandas/core/tools/datetimes.py:1047: UserWarning: Parsing '21-05-2010' in DD/MM/YYYY format. Provide format or specify infer_datetime_format=True for consistent parsing.\n",
      "  cache_array = _maybe_cache(arg, format, cache, convert_listlike)\n",
      "/Users/aishwarya/opt/anaconda3/lib/python3.9/site-packages/pandas/core/tools/datetimes.py:1047: UserWarning: Parsing '28-05-2010' in DD/MM/YYYY format. Provide format or specify infer_datetime_format=True for consistent parsing.\n",
      "  cache_array = _maybe_cache(arg, format, cache, convert_listlike)\n",
      "/Users/aishwarya/opt/anaconda3/lib/python3.9/site-packages/pandas/core/tools/datetimes.py:1047: UserWarning: Parsing '18-06-2010' in DD/MM/YYYY format. Provide format or specify infer_datetime_format=True for consistent parsing.\n",
      "  cache_array = _maybe_cache(arg, format, cache, convert_listlike)\n",
      "/Users/aishwarya/opt/anaconda3/lib/python3.9/site-packages/pandas/core/tools/datetimes.py:1047: UserWarning: Parsing '25-06-2010' in DD/MM/YYYY format. Provide format or specify infer_datetime_format=True for consistent parsing.\n",
      "  cache_array = _maybe_cache(arg, format, cache, convert_listlike)\n",
      "/Users/aishwarya/opt/anaconda3/lib/python3.9/site-packages/pandas/core/tools/datetimes.py:1047: UserWarning: Parsing '16-07-2010' in DD/MM/YYYY format. Provide format or specify infer_datetime_format=True for consistent parsing.\n",
      "  cache_array = _maybe_cache(arg, format, cache, convert_listlike)\n",
      "/Users/aishwarya/opt/anaconda3/lib/python3.9/site-packages/pandas/core/tools/datetimes.py:1047: UserWarning: Parsing '23-07-2010' in DD/MM/YYYY format. Provide format or specify infer_datetime_format=True for consistent parsing.\n",
      "  cache_array = _maybe_cache(arg, format, cache, convert_listlike)\n",
      "/Users/aishwarya/opt/anaconda3/lib/python3.9/site-packages/pandas/core/tools/datetimes.py:1047: UserWarning: Parsing '30-07-2010' in DD/MM/YYYY format. Provide format or specify infer_datetime_format=True for consistent parsing.\n",
      "  cache_array = _maybe_cache(arg, format, cache, convert_listlike)\n",
      "/Users/aishwarya/opt/anaconda3/lib/python3.9/site-packages/pandas/core/tools/datetimes.py:1047: UserWarning: Parsing '13-08-2010' in DD/MM/YYYY format. Provide format or specify infer_datetime_format=True for consistent parsing.\n",
      "  cache_array = _maybe_cache(arg, format, cache, convert_listlike)\n",
      "/Users/aishwarya/opt/anaconda3/lib/python3.9/site-packages/pandas/core/tools/datetimes.py:1047: UserWarning: Parsing '20-08-2010' in DD/MM/YYYY format. Provide format or specify infer_datetime_format=True for consistent parsing.\n",
      "  cache_array = _maybe_cache(arg, format, cache, convert_listlike)\n",
      "/Users/aishwarya/opt/anaconda3/lib/python3.9/site-packages/pandas/core/tools/datetimes.py:1047: UserWarning: Parsing '27-08-2010' in DD/MM/YYYY format. Provide format or specify infer_datetime_format=True for consistent parsing.\n",
      "  cache_array = _maybe_cache(arg, format, cache, convert_listlike)\n",
      "/Users/aishwarya/opt/anaconda3/lib/python3.9/site-packages/pandas/core/tools/datetimes.py:1047: UserWarning: Parsing '17-09-2010' in DD/MM/YYYY format. Provide format or specify infer_datetime_format=True for consistent parsing.\n",
      "  cache_array = _maybe_cache(arg, format, cache, convert_listlike)\n",
      "/Users/aishwarya/opt/anaconda3/lib/python3.9/site-packages/pandas/core/tools/datetimes.py:1047: UserWarning: Parsing '24-09-2010' in DD/MM/YYYY format. Provide format or specify infer_datetime_format=True for consistent parsing.\n",
      "  cache_array = _maybe_cache(arg, format, cache, convert_listlike)\n",
      "/Users/aishwarya/opt/anaconda3/lib/python3.9/site-packages/pandas/core/tools/datetimes.py:1047: UserWarning: Parsing '15-10-2010' in DD/MM/YYYY format. Provide format or specify infer_datetime_format=True for consistent parsing.\n",
      "  cache_array = _maybe_cache(arg, format, cache, convert_listlike)\n",
      "/Users/aishwarya/opt/anaconda3/lib/python3.9/site-packages/pandas/core/tools/datetimes.py:1047: UserWarning: Parsing '22-10-2010' in DD/MM/YYYY format. Provide format or specify infer_datetime_format=True for consistent parsing.\n",
      "  cache_array = _maybe_cache(arg, format, cache, convert_listlike)\n",
      "/Users/aishwarya/opt/anaconda3/lib/python3.9/site-packages/pandas/core/tools/datetimes.py:1047: UserWarning: Parsing '29-10-2010' in DD/MM/YYYY format. Provide format or specify infer_datetime_format=True for consistent parsing.\n",
      "  cache_array = _maybe_cache(arg, format, cache, convert_listlike)\n",
      "/Users/aishwarya/opt/anaconda3/lib/python3.9/site-packages/pandas/core/tools/datetimes.py:1047: UserWarning: Parsing '19-11-2010' in DD/MM/YYYY format. Provide format or specify infer_datetime_format=True for consistent parsing.\n",
      "  cache_array = _maybe_cache(arg, format, cache, convert_listlike)\n",
      "/Users/aishwarya/opt/anaconda3/lib/python3.9/site-packages/pandas/core/tools/datetimes.py:1047: UserWarning: Parsing '26-11-2010' in DD/MM/YYYY format. Provide format or specify infer_datetime_format=True for consistent parsing.\n",
      "  cache_array = _maybe_cache(arg, format, cache, convert_listlike)\n",
      "/Users/aishwarya/opt/anaconda3/lib/python3.9/site-packages/pandas/core/tools/datetimes.py:1047: UserWarning: Parsing '17-12-2010' in DD/MM/YYYY format. Provide format or specify infer_datetime_format=True for consistent parsing.\n",
      "  cache_array = _maybe_cache(arg, format, cache, convert_listlike)\n",
      "/Users/aishwarya/opt/anaconda3/lib/python3.9/site-packages/pandas/core/tools/datetimes.py:1047: UserWarning: Parsing '24-12-2010' in DD/MM/YYYY format. Provide format or specify infer_datetime_format=True for consistent parsing.\n",
      "  cache_array = _maybe_cache(arg, format, cache, convert_listlike)\n",
      "/Users/aishwarya/opt/anaconda3/lib/python3.9/site-packages/pandas/core/tools/datetimes.py:1047: UserWarning: Parsing '31-12-2010' in DD/MM/YYYY format. Provide format or specify infer_datetime_format=True for consistent parsing.\n",
      "  cache_array = _maybe_cache(arg, format, cache, convert_listlike)\n",
      "/Users/aishwarya/opt/anaconda3/lib/python3.9/site-packages/pandas/core/tools/datetimes.py:1047: UserWarning: Parsing '14-01-2011' in DD/MM/YYYY format. Provide format or specify infer_datetime_format=True for consistent parsing.\n",
      "  cache_array = _maybe_cache(arg, format, cache, convert_listlike)\n",
      "/Users/aishwarya/opt/anaconda3/lib/python3.9/site-packages/pandas/core/tools/datetimes.py:1047: UserWarning: Parsing '21-01-2011' in DD/MM/YYYY format. Provide format or specify infer_datetime_format=True for consistent parsing.\n",
      "  cache_array = _maybe_cache(arg, format, cache, convert_listlike)\n",
      "/Users/aishwarya/opt/anaconda3/lib/python3.9/site-packages/pandas/core/tools/datetimes.py:1047: UserWarning: Parsing '28-01-2011' in DD/MM/YYYY format. Provide format or specify infer_datetime_format=True for consistent parsing.\n",
      "  cache_array = _maybe_cache(arg, format, cache, convert_listlike)\n",
      "/Users/aishwarya/opt/anaconda3/lib/python3.9/site-packages/pandas/core/tools/datetimes.py:1047: UserWarning: Parsing '18-02-2011' in DD/MM/YYYY format. Provide format or specify infer_datetime_format=True for consistent parsing.\n",
      "  cache_array = _maybe_cache(arg, format, cache, convert_listlike)\n",
      "/Users/aishwarya/opt/anaconda3/lib/python3.9/site-packages/pandas/core/tools/datetimes.py:1047: UserWarning: Parsing '25-02-2011' in DD/MM/YYYY format. Provide format or specify infer_datetime_format=True for consistent parsing.\n",
      "  cache_array = _maybe_cache(arg, format, cache, convert_listlike)\n",
      "/Users/aishwarya/opt/anaconda3/lib/python3.9/site-packages/pandas/core/tools/datetimes.py:1047: UserWarning: Parsing '18-03-2011' in DD/MM/YYYY format. Provide format or specify infer_datetime_format=True for consistent parsing.\n",
      "  cache_array = _maybe_cache(arg, format, cache, convert_listlike)\n",
      "/Users/aishwarya/opt/anaconda3/lib/python3.9/site-packages/pandas/core/tools/datetimes.py:1047: UserWarning: Parsing '25-03-2011' in DD/MM/YYYY format. Provide format or specify infer_datetime_format=True for consistent parsing.\n",
      "  cache_array = _maybe_cache(arg, format, cache, convert_listlike)\n",
      "/Users/aishwarya/opt/anaconda3/lib/python3.9/site-packages/pandas/core/tools/datetimes.py:1047: UserWarning: Parsing '15-04-2011' in DD/MM/YYYY format. Provide format or specify infer_datetime_format=True for consistent parsing.\n",
      "  cache_array = _maybe_cache(arg, format, cache, convert_listlike)\n",
      "/Users/aishwarya/opt/anaconda3/lib/python3.9/site-packages/pandas/core/tools/datetimes.py:1047: UserWarning: Parsing '22-04-2011' in DD/MM/YYYY format. Provide format or specify infer_datetime_format=True for consistent parsing.\n",
      "  cache_array = _maybe_cache(arg, format, cache, convert_listlike)\n",
      "/Users/aishwarya/opt/anaconda3/lib/python3.9/site-packages/pandas/core/tools/datetimes.py:1047: UserWarning: Parsing '29-04-2011' in DD/MM/YYYY format. Provide format or specify infer_datetime_format=True for consistent parsing.\n",
      "  cache_array = _maybe_cache(arg, format, cache, convert_listlike)\n",
      "/Users/aishwarya/opt/anaconda3/lib/python3.9/site-packages/pandas/core/tools/datetimes.py:1047: UserWarning: Parsing '13-05-2011' in DD/MM/YYYY format. Provide format or specify infer_datetime_format=True for consistent parsing.\n",
      "  cache_array = _maybe_cache(arg, format, cache, convert_listlike)\n",
      "/Users/aishwarya/opt/anaconda3/lib/python3.9/site-packages/pandas/core/tools/datetimes.py:1047: UserWarning: Parsing '20-05-2011' in DD/MM/YYYY format. Provide format or specify infer_datetime_format=True for consistent parsing.\n",
      "  cache_array = _maybe_cache(arg, format, cache, convert_listlike)\n",
      "/Users/aishwarya/opt/anaconda3/lib/python3.9/site-packages/pandas/core/tools/datetimes.py:1047: UserWarning: Parsing '27-05-2011' in DD/MM/YYYY format. Provide format or specify infer_datetime_format=True for consistent parsing.\n",
      "  cache_array = _maybe_cache(arg, format, cache, convert_listlike)\n",
      "/Users/aishwarya/opt/anaconda3/lib/python3.9/site-packages/pandas/core/tools/datetimes.py:1047: UserWarning: Parsing '17-06-2011' in DD/MM/YYYY format. Provide format or specify infer_datetime_format=True for consistent parsing.\n",
      "  cache_array = _maybe_cache(arg, format, cache, convert_listlike)\n",
      "/Users/aishwarya/opt/anaconda3/lib/python3.9/site-packages/pandas/core/tools/datetimes.py:1047: UserWarning: Parsing '24-06-2011' in DD/MM/YYYY format. Provide format or specify infer_datetime_format=True for consistent parsing.\n",
      "  cache_array = _maybe_cache(arg, format, cache, convert_listlike)\n",
      "/Users/aishwarya/opt/anaconda3/lib/python3.9/site-packages/pandas/core/tools/datetimes.py:1047: UserWarning: Parsing '15-07-2011' in DD/MM/YYYY format. Provide format or specify infer_datetime_format=True for consistent parsing.\n",
      "  cache_array = _maybe_cache(arg, format, cache, convert_listlike)\n",
      "/Users/aishwarya/opt/anaconda3/lib/python3.9/site-packages/pandas/core/tools/datetimes.py:1047: UserWarning: Parsing '22-07-2011' in DD/MM/YYYY format. Provide format or specify infer_datetime_format=True for consistent parsing.\n",
      "  cache_array = _maybe_cache(arg, format, cache, convert_listlike)\n",
      "/Users/aishwarya/opt/anaconda3/lib/python3.9/site-packages/pandas/core/tools/datetimes.py:1047: UserWarning: Parsing '29-07-2011' in DD/MM/YYYY format. Provide format or specify infer_datetime_format=True for consistent parsing.\n",
      "  cache_array = _maybe_cache(arg, format, cache, convert_listlike)\n",
      "/Users/aishwarya/opt/anaconda3/lib/python3.9/site-packages/pandas/core/tools/datetimes.py:1047: UserWarning: Parsing '19-08-2011' in DD/MM/YYYY format. Provide format or specify infer_datetime_format=True for consistent parsing.\n",
      "  cache_array = _maybe_cache(arg, format, cache, convert_listlike)\n",
      "/Users/aishwarya/opt/anaconda3/lib/python3.9/site-packages/pandas/core/tools/datetimes.py:1047: UserWarning: Parsing '26-08-2011' in DD/MM/YYYY format. Provide format or specify infer_datetime_format=True for consistent parsing.\n",
      "  cache_array = _maybe_cache(arg, format, cache, convert_listlike)\n",
      "/Users/aishwarya/opt/anaconda3/lib/python3.9/site-packages/pandas/core/tools/datetimes.py:1047: UserWarning: Parsing '16-09-2011' in DD/MM/YYYY format. Provide format or specify infer_datetime_format=True for consistent parsing.\n",
      "  cache_array = _maybe_cache(arg, format, cache, convert_listlike)\n",
      "/Users/aishwarya/opt/anaconda3/lib/python3.9/site-packages/pandas/core/tools/datetimes.py:1047: UserWarning: Parsing '23-09-2011' in DD/MM/YYYY format. Provide format or specify infer_datetime_format=True for consistent parsing.\n",
      "  cache_array = _maybe_cache(arg, format, cache, convert_listlike)\n",
      "/Users/aishwarya/opt/anaconda3/lib/python3.9/site-packages/pandas/core/tools/datetimes.py:1047: UserWarning: Parsing '30-09-2011' in DD/MM/YYYY format. Provide format or specify infer_datetime_format=True for consistent parsing.\n",
      "  cache_array = _maybe_cache(arg, format, cache, convert_listlike)\n",
      "/Users/aishwarya/opt/anaconda3/lib/python3.9/site-packages/pandas/core/tools/datetimes.py:1047: UserWarning: Parsing '14-10-2011' in DD/MM/YYYY format. Provide format or specify infer_datetime_format=True for consistent parsing.\n",
      "  cache_array = _maybe_cache(arg, format, cache, convert_listlike)\n",
      "/Users/aishwarya/opt/anaconda3/lib/python3.9/site-packages/pandas/core/tools/datetimes.py:1047: UserWarning: Parsing '21-10-2011' in DD/MM/YYYY format. Provide format or specify infer_datetime_format=True for consistent parsing.\n",
      "  cache_array = _maybe_cache(arg, format, cache, convert_listlike)\n",
      "/Users/aishwarya/opt/anaconda3/lib/python3.9/site-packages/pandas/core/tools/datetimes.py:1047: UserWarning: Parsing '28-10-2011' in DD/MM/YYYY format. Provide format or specify infer_datetime_format=True for consistent parsing.\n",
      "  cache_array = _maybe_cache(arg, format, cache, convert_listlike)\n",
      "/Users/aishwarya/opt/anaconda3/lib/python3.9/site-packages/pandas/core/tools/datetimes.py:1047: UserWarning: Parsing '18-11-2011' in DD/MM/YYYY format. Provide format or specify infer_datetime_format=True for consistent parsing.\n",
      "  cache_array = _maybe_cache(arg, format, cache, convert_listlike)\n",
      "/Users/aishwarya/opt/anaconda3/lib/python3.9/site-packages/pandas/core/tools/datetimes.py:1047: UserWarning: Parsing '25-11-2011' in DD/MM/YYYY format. Provide format or specify infer_datetime_format=True for consistent parsing.\n",
      "  cache_array = _maybe_cache(arg, format, cache, convert_listlike)\n",
      "/Users/aishwarya/opt/anaconda3/lib/python3.9/site-packages/pandas/core/tools/datetimes.py:1047: UserWarning: Parsing '16-12-2011' in DD/MM/YYYY format. Provide format or specify infer_datetime_format=True for consistent parsing.\n",
      "  cache_array = _maybe_cache(arg, format, cache, convert_listlike)\n",
      "/Users/aishwarya/opt/anaconda3/lib/python3.9/site-packages/pandas/core/tools/datetimes.py:1047: UserWarning: Parsing '23-12-2011' in DD/MM/YYYY format. Provide format or specify infer_datetime_format=True for consistent parsing.\n",
      "  cache_array = _maybe_cache(arg, format, cache, convert_listlike)\n",
      "/Users/aishwarya/opt/anaconda3/lib/python3.9/site-packages/pandas/core/tools/datetimes.py:1047: UserWarning: Parsing '30-12-2011' in DD/MM/YYYY format. Provide format or specify infer_datetime_format=True for consistent parsing.\n",
      "  cache_array = _maybe_cache(arg, format, cache, convert_listlike)\n",
      "/Users/aishwarya/opt/anaconda3/lib/python3.9/site-packages/pandas/core/tools/datetimes.py:1047: UserWarning: Parsing '13-01-2012' in DD/MM/YYYY format. Provide format or specify infer_datetime_format=True for consistent parsing.\n",
      "  cache_array = _maybe_cache(arg, format, cache, convert_listlike)\n",
      "/Users/aishwarya/opt/anaconda3/lib/python3.9/site-packages/pandas/core/tools/datetimes.py:1047: UserWarning: Parsing '20-01-2012' in DD/MM/YYYY format. Provide format or specify infer_datetime_format=True for consistent parsing.\n",
      "  cache_array = _maybe_cache(arg, format, cache, convert_listlike)\n",
      "/Users/aishwarya/opt/anaconda3/lib/python3.9/site-packages/pandas/core/tools/datetimes.py:1047: UserWarning: Parsing '27-01-2012' in DD/MM/YYYY format. Provide format or specify infer_datetime_format=True for consistent parsing.\n",
      "  cache_array = _maybe_cache(arg, format, cache, convert_listlike)\n",
      "/Users/aishwarya/opt/anaconda3/lib/python3.9/site-packages/pandas/core/tools/datetimes.py:1047: UserWarning: Parsing '17-02-2012' in DD/MM/YYYY format. Provide format or specify infer_datetime_format=True for consistent parsing.\n",
      "  cache_array = _maybe_cache(arg, format, cache, convert_listlike)\n",
      "/Users/aishwarya/opt/anaconda3/lib/python3.9/site-packages/pandas/core/tools/datetimes.py:1047: UserWarning: Parsing '24-02-2012' in DD/MM/YYYY format. Provide format or specify infer_datetime_format=True for consistent parsing.\n",
      "  cache_array = _maybe_cache(arg, format, cache, convert_listlike)\n",
      "/Users/aishwarya/opt/anaconda3/lib/python3.9/site-packages/pandas/core/tools/datetimes.py:1047: UserWarning: Parsing '16-03-2012' in DD/MM/YYYY format. Provide format or specify infer_datetime_format=True for consistent parsing.\n",
      "  cache_array = _maybe_cache(arg, format, cache, convert_listlike)\n",
      "/Users/aishwarya/opt/anaconda3/lib/python3.9/site-packages/pandas/core/tools/datetimes.py:1047: UserWarning: Parsing '23-03-2012' in DD/MM/YYYY format. Provide format or specify infer_datetime_format=True for consistent parsing.\n",
      "  cache_array = _maybe_cache(arg, format, cache, convert_listlike)\n",
      "/Users/aishwarya/opt/anaconda3/lib/python3.9/site-packages/pandas/core/tools/datetimes.py:1047: UserWarning: Parsing '30-03-2012' in DD/MM/YYYY format. Provide format or specify infer_datetime_format=True for consistent parsing.\n",
      "  cache_array = _maybe_cache(arg, format, cache, convert_listlike)\n",
      "/Users/aishwarya/opt/anaconda3/lib/python3.9/site-packages/pandas/core/tools/datetimes.py:1047: UserWarning: Parsing '13-04-2012' in DD/MM/YYYY format. Provide format or specify infer_datetime_format=True for consistent parsing.\n",
      "  cache_array = _maybe_cache(arg, format, cache, convert_listlike)\n",
      "/Users/aishwarya/opt/anaconda3/lib/python3.9/site-packages/pandas/core/tools/datetimes.py:1047: UserWarning: Parsing '20-04-2012' in DD/MM/YYYY format. Provide format or specify infer_datetime_format=True for consistent parsing.\n",
      "  cache_array = _maybe_cache(arg, format, cache, convert_listlike)\n",
      "/Users/aishwarya/opt/anaconda3/lib/python3.9/site-packages/pandas/core/tools/datetimes.py:1047: UserWarning: Parsing '27-04-2012' in DD/MM/YYYY format. Provide format or specify infer_datetime_format=True for consistent parsing.\n",
      "  cache_array = _maybe_cache(arg, format, cache, convert_listlike)\n",
      "/Users/aishwarya/opt/anaconda3/lib/python3.9/site-packages/pandas/core/tools/datetimes.py:1047: UserWarning: Parsing '18-05-2012' in DD/MM/YYYY format. Provide format or specify infer_datetime_format=True for consistent parsing.\n",
      "  cache_array = _maybe_cache(arg, format, cache, convert_listlike)\n",
      "/Users/aishwarya/opt/anaconda3/lib/python3.9/site-packages/pandas/core/tools/datetimes.py:1047: UserWarning: Parsing '25-05-2012' in DD/MM/YYYY format. Provide format or specify infer_datetime_format=True for consistent parsing.\n",
      "  cache_array = _maybe_cache(arg, format, cache, convert_listlike)\n",
      "/Users/aishwarya/opt/anaconda3/lib/python3.9/site-packages/pandas/core/tools/datetimes.py:1047: UserWarning: Parsing '15-06-2012' in DD/MM/YYYY format. Provide format or specify infer_datetime_format=True for consistent parsing.\n",
      "  cache_array = _maybe_cache(arg, format, cache, convert_listlike)\n",
      "/Users/aishwarya/opt/anaconda3/lib/python3.9/site-packages/pandas/core/tools/datetimes.py:1047: UserWarning: Parsing '22-06-2012' in DD/MM/YYYY format. Provide format or specify infer_datetime_format=True for consistent parsing.\n",
      "  cache_array = _maybe_cache(arg, format, cache, convert_listlike)\n",
      "/Users/aishwarya/opt/anaconda3/lib/python3.9/site-packages/pandas/core/tools/datetimes.py:1047: UserWarning: Parsing '29-06-2012' in DD/MM/YYYY format. Provide format or specify infer_datetime_format=True for consistent parsing.\n",
      "  cache_array = _maybe_cache(arg, format, cache, convert_listlike)\n",
      "/Users/aishwarya/opt/anaconda3/lib/python3.9/site-packages/pandas/core/tools/datetimes.py:1047: UserWarning: Parsing '13-07-2012' in DD/MM/YYYY format. Provide format or specify infer_datetime_format=True for consistent parsing.\n",
      "  cache_array = _maybe_cache(arg, format, cache, convert_listlike)\n",
      "/Users/aishwarya/opt/anaconda3/lib/python3.9/site-packages/pandas/core/tools/datetimes.py:1047: UserWarning: Parsing '20-07-2012' in DD/MM/YYYY format. Provide format or specify infer_datetime_format=True for consistent parsing.\n",
      "  cache_array = _maybe_cache(arg, format, cache, convert_listlike)\n",
      "/Users/aishwarya/opt/anaconda3/lib/python3.9/site-packages/pandas/core/tools/datetimes.py:1047: UserWarning: Parsing '27-07-2012' in DD/MM/YYYY format. Provide format or specify infer_datetime_format=True for consistent parsing.\n",
      "  cache_array = _maybe_cache(arg, format, cache, convert_listlike)\n",
      "/Users/aishwarya/opt/anaconda3/lib/python3.9/site-packages/pandas/core/tools/datetimes.py:1047: UserWarning: Parsing '17-08-2012' in DD/MM/YYYY format. Provide format or specify infer_datetime_format=True for consistent parsing.\n",
      "  cache_array = _maybe_cache(arg, format, cache, convert_listlike)\n",
      "/Users/aishwarya/opt/anaconda3/lib/python3.9/site-packages/pandas/core/tools/datetimes.py:1047: UserWarning: Parsing '24-08-2012' in DD/MM/YYYY format. Provide format or specify infer_datetime_format=True for consistent parsing.\n",
      "  cache_array = _maybe_cache(arg, format, cache, convert_listlike)\n",
      "/Users/aishwarya/opt/anaconda3/lib/python3.9/site-packages/pandas/core/tools/datetimes.py:1047: UserWarning: Parsing '31-08-2012' in DD/MM/YYYY format. Provide format or specify infer_datetime_format=True for consistent parsing.\n",
      "  cache_array = _maybe_cache(arg, format, cache, convert_listlike)\n",
      "/Users/aishwarya/opt/anaconda3/lib/python3.9/site-packages/pandas/core/tools/datetimes.py:1047: UserWarning: Parsing '14-09-2012' in DD/MM/YYYY format. Provide format or specify infer_datetime_format=True for consistent parsing.\n",
      "  cache_array = _maybe_cache(arg, format, cache, convert_listlike)\n",
      "/Users/aishwarya/opt/anaconda3/lib/python3.9/site-packages/pandas/core/tools/datetimes.py:1047: UserWarning: Parsing '21-09-2012' in DD/MM/YYYY format. Provide format or specify infer_datetime_format=True for consistent parsing.\n",
      "  cache_array = _maybe_cache(arg, format, cache, convert_listlike)\n",
      "/Users/aishwarya/opt/anaconda3/lib/python3.9/site-packages/pandas/core/tools/datetimes.py:1047: UserWarning: Parsing '28-09-2012' in DD/MM/YYYY format. Provide format or specify infer_datetime_format=True for consistent parsing.\n",
      "  cache_array = _maybe_cache(arg, format, cache, convert_listlike)\n",
      "/Users/aishwarya/opt/anaconda3/lib/python3.9/site-packages/pandas/core/tools/datetimes.py:1047: UserWarning: Parsing '19-10-2012' in DD/MM/YYYY format. Provide format or specify infer_datetime_format=True for consistent parsing.\n",
      "  cache_array = _maybe_cache(arg, format, cache, convert_listlike)\n",
      "/Users/aishwarya/opt/anaconda3/lib/python3.9/site-packages/pandas/core/tools/datetimes.py:1047: UserWarning: Parsing '26-10-2012' in DD/MM/YYYY format. Provide format or specify infer_datetime_format=True for consistent parsing.\n",
      "  cache_array = _maybe_cache(arg, format, cache, convert_listlike)\n"
     ]
    }
   ],
   "source": [
    "df_wm['Date'] = pd.to_datetime(df_wm['Date'])"
   ]
  },
  {
   "cell_type": "code",
   "execution_count": 48,
   "id": "2276829f",
   "metadata": {
    "execution": {
     "iopub.execute_input": "2022-11-28T18:26:33.559637Z",
     "iopub.status.busy": "2022-11-28T18:26:33.558839Z",
     "iopub.status.idle": "2022-11-28T18:26:33.573965Z",
     "shell.execute_reply": "2022-11-28T18:26:33.572449Z"
    },
    "id": "O8D-RWDLZ3CA",
    "outputId": "e9643a4a-e16a-45cd-c19a-9655993b1df9",
    "papermill": {
     "duration": 0.032912,
     "end_time": "2022-11-28T18:26:33.576614",
     "exception": false,
     "start_time": "2022-11-28T18:26:33.543702",
     "status": "completed"
    },
    "tags": []
   },
   "outputs": [
    {
     "data": {
      "text/plain": [
       "Store                 category\n",
       "Date            datetime64[ns]\n",
       "Weekly_Sales           float32\n",
       "Holiday_Flag          category\n",
       "Temperature            float32\n",
       "Fuel_Price             float32\n",
       "CPI                    float32\n",
       "Unemployment           float32\n",
       "dtype: object"
      ]
     },
     "execution_count": 48,
     "metadata": {},
     "output_type": "execute_result"
    },
    {
     "name": "stdout",
     "output_type": "stream",
     "text": [
      "\n"
     ]
    },
    {
     "data": {
      "text/plain": [
       "194734"
      ]
     },
     "execution_count": 48,
     "metadata": {},
     "output_type": "execute_result"
    }
   ],
   "source": [
    "df_wm.dtypes\n",
    "print()\n",
    "df_wm.memory_usage().sum()"
   ]
  },
  {
   "cell_type": "markdown",
   "id": "b89cd87d",
   "metadata": {
    "id": "SyKUm0yNcCq_",
    "papermill": {
     "duration": 0.013847,
     "end_time": "2022-11-28T18:26:33.604482",
     "exception": false,
     "start_time": "2022-11-28T18:26:33.590635",
     "status": "completed"
    },
    "tags": []
   },
   "source": [
    "<font color='blue'>\n",
    "<h3> Memory usage reduced from 411968 bytes to 194734 bytes\n",
    "</font>"
   ]
  },
  {
   "cell_type": "markdown",
   "id": "8bdc1f46",
   "metadata": {
    "id": "FZ8iWefu_8aM",
    "papermill": {
     "duration": 0.013272,
     "end_time": "2022-11-28T18:26:33.631323",
     "exception": false,
     "start_time": "2022-11-28T18:26:33.618051",
     "status": "completed"
    },
    "tags": []
   },
   "source": [
    "<font color='blue'>\n",
    "<h1> 5 FEATURE ENGINEERING\n",
    "</font>"
   ]
  },
  {
   "cell_type": "markdown",
   "id": "2c418601",
   "metadata": {
    "id": "c6WXAVWUAHlG",
    "papermill": {
     "duration": 0.013348,
     "end_time": "2022-11-28T18:26:33.658243",
     "exception": false,
     "start_time": "2022-11-28T18:26:33.644895",
     "status": "completed"
    },
    "tags": []
   },
   "source": [
    "<font color='blue'>\n",
    "<h2> 5.1 Separate Year from the weekly report date\n",
    "</font>"
   ]
  },
  {
   "cell_type": "code",
   "execution_count": 49,
   "id": "652a7d82",
   "metadata": {
    "execution": {
     "iopub.execute_input": "2022-11-28T18:26:33.687504Z",
     "iopub.status.busy": "2022-11-28T18:26:33.687083Z",
     "iopub.status.idle": "2022-11-28T18:26:33.695602Z",
     "shell.execute_reply": "2022-11-28T18:26:33.694379Z"
    },
    "id": "-uHUvvIZAGYw",
    "papermill": {
     "duration": 0.026327,
     "end_time": "2022-11-28T18:26:33.698172",
     "exception": false,
     "start_time": "2022-11-28T18:26:33.671845",
     "status": "completed"
    },
    "tags": []
   },
   "outputs": [],
   "source": [
    "df_wm['Year'] = pd.DatetimeIndex(df_wm['Date']).year\n",
    "df_wm['Year'] = df_wm['Year'].astype('category')"
   ]
  },
  {
   "cell_type": "markdown",
   "id": "9331191c",
   "metadata": {
    "id": "gHezoBpQLSEW",
    "papermill": {
     "duration": 0.016933,
     "end_time": "2022-11-28T18:26:33.728822",
     "exception": false,
     "start_time": "2022-11-28T18:26:33.711889",
     "status": "completed"
    },
    "tags": []
   },
   "source": [
    "<font color='blue'>\n",
    "<h2> 5.2 Separate Month from the weekly report date\n",
    "</font>"
   ]
  },
  {
   "cell_type": "code",
   "execution_count": 50,
   "id": "804bb7c8",
   "metadata": {
    "execution": {
     "iopub.execute_input": "2022-11-28T18:26:33.759368Z",
     "iopub.status.busy": "2022-11-28T18:26:33.758251Z",
     "iopub.status.idle": "2022-11-28T18:26:33.767089Z",
     "shell.execute_reply": "2022-11-28T18:26:33.765836Z"
    },
    "id": "8qdlyHB8LdDN",
    "papermill": {
     "duration": 0.027285,
     "end_time": "2022-11-28T18:26:33.769718",
     "exception": false,
     "start_time": "2022-11-28T18:26:33.742433",
     "status": "completed"
    },
    "tags": []
   },
   "outputs": [],
   "source": [
    "df_wm['Month'] = pd.DatetimeIndex(df_wm['Date']).month\n",
    "df_wm['Month'] = df_wm['Month'].astype('category')"
   ]
  },
  {
   "cell_type": "code",
   "execution_count": 51,
   "id": "242532e2",
   "metadata": {
    "execution": {
     "iopub.execute_input": "2022-11-28T18:26:33.801942Z",
     "iopub.status.busy": "2022-11-28T18:26:33.801338Z",
     "iopub.status.idle": "2022-11-28T18:26:33.808932Z",
     "shell.execute_reply": "2022-11-28T18:26:33.807744Z"
    },
    "id": "ef0N3Ozud9ea",
    "outputId": "4cfd5eb0-0ae2-4959-d91a-9176359be57d",
    "papermill": {
     "duration": 0.026904,
     "end_time": "2022-11-28T18:26:33.811636",
     "exception": false,
     "start_time": "2022-11-28T18:26:33.784732",
     "status": "completed"
    },
    "tags": []
   },
   "outputs": [
    {
     "data": {
      "text/plain": [
       "Store                 category\n",
       "Date            datetime64[ns]\n",
       "Weekly_Sales           float32\n",
       "Holiday_Flag          category\n",
       "Temperature            float32\n",
       "Fuel_Price             float32\n",
       "CPI                    float32\n",
       "Unemployment           float32\n",
       "Year                  category\n",
       "Month                 category\n",
       "dtype: object"
      ]
     },
     "execution_count": 51,
     "metadata": {},
     "output_type": "execute_result"
    }
   ],
   "source": [
    "df_wm.dtypes"
   ]
  },
  {
   "cell_type": "markdown",
   "id": "57d13c5b",
   "metadata": {
    "id": "Ubs0UT1DrmqS",
    "papermill": {
     "duration": 0.013881,
     "end_time": "2022-11-28T18:26:33.840196",
     "exception": false,
     "start_time": "2022-11-28T18:26:33.826315",
     "status": "completed"
    },
    "tags": []
   },
   "source": [
    "<font color='blue'>\n",
    "<h1> 6 Analyze Correlation between features\n",
    "</font>"
   ]
  },
  {
   "cell_type": "code",
   "execution_count": 52,
   "id": "62f3a3aa",
   "metadata": {
    "execution": {
     "iopub.execute_input": "2022-11-28T18:26:33.870656Z",
     "iopub.status.busy": "2022-11-28T18:26:33.870185Z",
     "iopub.status.idle": "2022-11-28T18:26:34.239313Z",
     "shell.execute_reply": "2022-11-28T18:26:34.237936Z"
    },
    "id": "e1_ceHPusfoY",
    "outputId": "4a112711-f0de-44ad-e8c7-e203f34c209e",
    "papermill": {
     "duration": 0.387265,
     "end_time": "2022-11-28T18:26:34.241979",
     "exception": false,
     "start_time": "2022-11-28T18:26:33.854714",
     "status": "completed"
    },
    "tags": []
   },
   "outputs": [
    {
     "data": {
      "image/png": "[encoded data removed]",
      "text/plain": [
       "<Figure size 576x576 with 2 Axes>"
      ]
     },
     "metadata": {
      "needs_background": "light"
     },
     "output_type": "display_data"
    }
   ],
   "source": [
    "\n",
    "plt.figure(figsize=(8,8))\n",
    "sns.heatmap(df_wm[[\"Weekly_Sales\",\"Temperature\",\"Fuel_Price\",\"CPI\",\"Unemployment\",\"Year\"]].corr(),cmap=\"YlGnBu\",annot=True)\n",
    "plt.title('Correlation Matrix');"
   ]
  },
  {
   "cell_type": "markdown",
   "id": "dc6cd5a8",
   "metadata": {
    "id": "US4PuSDcL1ll",
    "papermill": {
     "duration": 0.01412,
     "end_time": "2022-11-28T18:26:34.270719",
     "exception": false,
     "start_time": "2022-11-28T18:26:34.256599",
     "status": "completed"
    },
    "tags": []
   },
   "source": [
    "<font color='blue'>\n",
    "<h1> 7 Fixing Holiday Flag\n",
    "</font>"
   ]
  },
  {
   "cell_type": "markdown",
   "id": "c7e528cf",
   "metadata": {
    "id": "M_k_41LOuEp8",
    "papermill": {
     "duration": 0.014012,
     "end_time": "2022-11-28T18:26:34.299148",
     "exception": false,
     "start_time": "2022-11-28T18:26:34.285136",
     "status": "completed"
    },
    "tags": []
   },
   "source": [
    "<font color='red'>\n",
    "<H2> The holiday flag marking was incorrect for these reportings.<br>\n",
    "</font>\n",
    "\n",
    "<font color='red'>\n",
    "<H3>\n",
    "* 12-Oct-2010 (11-Oct was holiday in the reported data)<br>\n",
    "* 24-Dec-2010 (Holiday Season Week)<br>\n",
    "* 17-Dec-2010 (Holiday Season Week)<br>\n",
    "* 12-Sep-2011 (5th Sept was holiday in the reported data)<br>\n",
    "* 23-Dec-2011 (Holiday Season Week)<br>\n",
    "* 04-Jun-2012 (28th May was holiday in the reported data)<br>\n",
    "Hence marking Weekly Sales data for these weeks as Holiday Season. \n",
    "</font>"
   ]
  },
  {
   "cell_type": "code",
   "execution_count": 53,
   "id": "90eafa3e",
   "metadata": {
    "execution": {
     "iopub.execute_input": "2022-11-28T18:26:34.329734Z",
     "iopub.status.busy": "2022-11-28T18:26:34.329325Z",
     "iopub.status.idle": "2022-11-28T18:26:34.337604Z",
     "shell.execute_reply": "2022-11-28T18:26:34.336368Z"
    },
    "id": "d3y3_AuwvNFH",
    "papermill": {
     "duration": 0.026756,
     "end_time": "2022-11-28T18:26:34.340251",
     "exception": false,
     "start_time": "2022-11-28T18:26:34.313495",
     "status": "completed"
    },
    "tags": []
   },
   "outputs": [],
   "source": [
    "df_wm.loc[(df_wm['Holiday_Flag'] == 0)& (df_wm['Weekly_Sales'] > 25),'Holiday_Flag'] = 1"
   ]
  },
  {
   "cell_type": "markdown",
   "id": "7c28c792",
   "metadata": {
    "id": "A8s2oQq9Wvtp",
    "papermill": {
     "duration": 0.014118,
     "end_time": "2022-11-28T18:26:34.369097",
     "exception": false,
     "start_time": "2022-11-28T18:26:34.354979",
     "status": "completed"
    },
    "tags": []
   },
   "source": [
    "<font color='blue'>\n",
    "<h1> 7 Feature Alteration for Categorical Features\n",
    "</font>\n",
    "\n",
    "<font color='blue'>\n",
    "<h2> 7.1 Holiday_Flag - Convert from category to int\n",
    "</font>"
   ]
  },
  {
   "cell_type": "code",
   "execution_count": 54,
   "id": "c6c870c2",
   "metadata": {
    "execution": {
     "iopub.execute_input": "2022-11-28T18:26:34.399794Z",
     "iopub.status.busy": "2022-11-28T18:26:34.399384Z",
     "iopub.status.idle": "2022-11-28T18:26:34.406090Z",
     "shell.execute_reply": "2022-11-28T18:26:34.404807Z"
    },
    "id": "TxqhukjWYcPN",
    "papermill": {
     "duration": 0.025229,
     "end_time": "2022-11-28T18:26:34.408689",
     "exception": false,
     "start_time": "2022-11-28T18:26:34.383460",
     "status": "completed"
    },
    "tags": []
   },
   "outputs": [],
   "source": [
    "df_wm['Holiday_Flag'] = df_wm['Holiday_Flag'].astype('int16')"
   ]
  },
  {
   "cell_type": "markdown",
   "id": "8bbdfe5c",
   "metadata": {
    "id": "2RDkCbP9Yjmu",
    "papermill": {
     "duration": 0.014168,
     "end_time": "2022-11-28T18:26:34.437385",
     "exception": false,
     "start_time": "2022-11-28T18:26:34.423217",
     "status": "completed"
    },
    "tags": []
   },
   "source": [
    "<font color='blue'>\n",
    "<h2> 7.2 Encode Store ID using One-Hot Encoding\n",
    "</font>"
   ]
  },
  {
   "cell_type": "code",
   "execution_count": 55,
   "id": "232df8af",
   "metadata": {
    "execution": {
     "iopub.execute_input": "2022-11-28T18:26:34.469338Z",
     "iopub.status.busy": "2022-11-28T18:26:34.468627Z",
     "iopub.status.idle": "2022-11-28T18:26:34.487881Z",
     "shell.execute_reply": "2022-11-28T18:26:34.486628Z"
    },
    "id": "QEDKOdIkBi1z",
    "outputId": "93f4ea73-da58-4f74-926f-4a4cf729e3ac",
    "papermill": {
     "duration": 0.038901,
     "end_time": "2022-11-28T18:26:34.490693",
     "exception": false,
     "start_time": "2022-11-28T18:26:34.451792",
     "status": "completed"
    },
    "tags": []
   },
   "outputs": [
    {
     "data": {
      "text/plain": [
       "OneHotEncoder(drop='first', dtype='int16')"
      ]
     },
     "execution_count": 55,
     "metadata": {},
     "output_type": "execute_result"
    }
   ],
   "source": [
    "#df_wm['Store'].unique()\n",
    "ohe = OneHotEncoder(categories='auto',drop='first',dtype='int16')\n",
    "ohe.fit(df_wm[['Store']])\n",
    "#ohe.categories_\n",
    "enc_df = pd.DataFrame(ohe.transform(df_wm[['Store']]).toarray())\n",
    "enc_df.columns = ohe.get_feature_names_out(['Store'])\n",
    "df_wm = pd.concat([df_wm, enc_df], axis=1, join='inner')"
   ]
  },
  {
   "cell_type": "markdown",
   "id": "223b1247",
   "metadata": {
    "id": "0bHEHC2ZZmkN",
    "papermill": {
     "duration": 0.014589,
     "end_time": "2022-11-28T18:26:34.520171",
     "exception": false,
     "start_time": "2022-11-28T18:26:34.505582",
     "status": "completed"
    },
    "tags": []
   },
   "source": [
    "<font color='blue'>\n",
    "<h2> 7.3 Convert Year and Month from Category to Int\n",
    "</font>"
   ]
  },
  {
   "cell_type": "code",
   "execution_count": 56,
   "id": "618d41c9",
   "metadata": {
    "execution": {
     "iopub.execute_input": "2022-11-28T18:26:34.552051Z",
     "iopub.status.busy": "2022-11-28T18:26:34.551643Z",
     "iopub.status.idle": "2022-11-28T18:26:34.560123Z",
     "shell.execute_reply": "2022-11-28T18:26:34.558745Z"
    },
    "id": "Y1_-pS5A6jsG",
    "papermill": {
     "duration": 0.027316,
     "end_time": "2022-11-28T18:26:34.562701",
     "exception": false,
     "start_time": "2022-11-28T18:26:34.535385",
     "status": "completed"
    },
    "tags": []
   },
   "outputs": [],
   "source": [
    "df_wm['Year']=df_wm['Year'].astype('int16')\n",
    "df_wm['Month'] = df_wm['Month'].astype('int16')"
   ]
  },
  {
   "cell_type": "markdown",
   "id": "ffec1a6d",
   "metadata": {
    "id": "dGijdHtqBf1C",
    "papermill": {
     "duration": 0.014397,
     "end_time": "2022-11-28T18:26:34.592328",
     "exception": false,
     "start_time": "2022-11-28T18:26:34.577931",
     "status": "completed"
    },
    "tags": []
   },
   "source": [
    "<font color='blue'>\n",
    "<h1> 8 Regression using Encoded Features\n",
    "</font>\n",
    "\n",
    "<font color='blue'>\n",
    "<h2> 8.1 Random Forest Single Model\n",
    "</font>"
   ]
  },
  {
   "cell_type": "code",
   "execution_count": 57,
   "id": "bbc53e01",
   "metadata": {
    "execution": {
     "iopub.execute_input": "2022-11-28T18:26:34.624849Z",
     "iopub.status.busy": "2022-11-28T18:26:34.624083Z",
     "iopub.status.idle": "2022-11-28T18:26:34.636107Z",
     "shell.execute_reply": "2022-11-28T18:26:34.635125Z"
    },
    "id": "gy5fCQwdaoul",
    "papermill": {
     "duration": 0.031745,
     "end_time": "2022-11-28T18:26:34.638708",
     "exception": false,
     "start_time": "2022-11-28T18:26:34.606963",
     "status": "completed"
    },
    "tags": []
   },
   "outputs": [],
   "source": [
    "## Decision Tree does not work with Dates So take all fields\n",
    "y = df_wm['Weekly_Sales']\n",
    "X = df_wm.loc[ : , (df_wm.columns != 'Weekly_Sales') & (df_wm.columns != 'Date') & (df_wm.columns != 'Store')]\n",
    "X_train, X_test, y_train, y_test = train_test_split( X, y,test_size = 0.3,shuffle = True)"
   ]
  },
  {
   "cell_type": "code",
   "execution_count": 58,
   "id": "8d303d74",
   "metadata": {
    "execution": {
     "iopub.execute_input": "2022-11-28T18:26:34.670875Z",
     "iopub.status.busy": "2022-11-28T18:26:34.670376Z",
     "iopub.status.idle": "2022-11-28T18:26:36.715099Z",
     "shell.execute_reply": "2022-11-28T18:26:36.713854Z"
    },
    "id": "YLOMHEwvRbJA",
    "outputId": "e9ea04ef-bc6b-48df-94e9-1117c8692047",
    "papermill": {
     "duration": 2.063707,
     "end_time": "2022-11-28T18:26:36.717720",
     "exception": false,
     "start_time": "2022-11-28T18:26:34.654013",
     "status": "completed"
    },
    "tags": []
   },
   "outputs": [
    {
     "data": {
      "text/plain": [
       "RandomForestRegressor(n_estimators=50)"
      ]
     },
     "execution_count": 58,
     "metadata": {},
     "output_type": "execute_result"
    },
    {
     "name": "stdout",
     "output_type": "stream",
     "text": [
      "MAE test :  82848.66769759839\n",
      "RMSE test :  159484.34857618442\n",
      "RMSE test % :  14.95269034919453\n",
      "R Squared test :  0.9188826121543586\n"
     ]
    }
   ],
   "source": [
    "# Trying basic random forest with 50 estimators\n",
    "rf_regressor = RandomForestRegressor(n_estimators=50,max_depth=None)\n",
    "rf_regressor.fit(X_train,y_train)\n",
    "y_pred = rf_regressor.predict(X_test)\n",
    "print(\"MAE test : \",  mean_absolute_error(y_test,y_pred))\n",
    "print(\"RMSE test : \",  np.sqrt(mean_squared_error(y_test,y_pred)))\n",
    "print(\"RMSE test % : \", np.sqrt(mean_squared_error(y_test,y_pred))*100/y_test.mean())\n",
    "print(\"R Squared test : \", r2_score(y_test,y_pred) )  "
   ]
  },
  {
   "cell_type": "markdown",
   "id": "0c5748e5",
   "metadata": {
    "id": "NhD6YMifDeSI",
    "papermill": {
     "duration": 0.016081,
     "end_time": "2022-11-28T18:26:36.750851",
     "exception": false,
     "start_time": "2022-11-28T18:26:36.734770",
     "status": "completed"
    },
    "tags": []
   },
   "source": [
    "<font color='blue'>\n",
    "<h2> 8.2 Random Forest Regressor - with Cross Validation\n",
    "</font>"
   ]
  },
  {
   "cell_type": "code",
   "execution_count": 59,
   "id": "30bcd36a",
   "metadata": {
    "execution": {
     "iopub.execute_input": "2022-11-28T18:26:36.783364Z",
     "iopub.status.busy": "2022-11-28T18:26:36.782542Z",
     "iopub.status.idle": "2022-11-28T18:26:47.015342Z",
     "shell.execute_reply": "2022-11-28T18:26:47.013760Z"
    },
    "id": "DBArGOUXR7ZK",
    "outputId": "d62256e1-c15c-4657-a6b4-1ed9d6e901f1",
    "papermill": {
     "duration": 10.252098,
     "end_time": "2022-11-28T18:26:47.018416",
     "exception": false,
     "start_time": "2022-11-28T18:26:36.766318",
     "status": "completed"
    },
    "tags": []
   },
   "outputs": [
    {
     "name": "stdout",
     "output_type": "stream",
     "text": [
      "R Squared Test : [0.90904605 0.91646066 0.93336853 0.92719532 0.93485229 0.92484151]\n",
      "-ve MSE : [-3.20452194e+10 -2.88906539e+10 -2.20931515e+10 -2.22791986e+10\n",
      " -1.92501195e+10 -2.16360351e+10]\n"
     ]
    }
   ],
   "source": [
    "rf_regressor_cv = RandomForestRegressor(n_estimators=50,max_depth=None,criterion='squared_error')\n",
    "scores_rfr = cross_validate(rf_regressor_cv, X_train, y_train, cv=6,scoring=('r2','neg_mean_squared_error'),return_estimator=True)\n",
    "print('R Squared Test :',scores_rfr['test_r2'])\n",
    "print('-ve MSE :',scores_rfr[\n",
    "    'test_neg_mean_squared_error'])"
   ]
  },
  {
   "cell_type": "code",
   "execution_count": 60,
   "id": "8df56e85",
   "metadata": {
    "execution": {
     "iopub.execute_input": "2022-11-28T18:26:47.051003Z",
     "iopub.status.busy": "2022-11-28T18:26:47.050584Z",
     "iopub.status.idle": "2022-11-28T18:26:47.330024Z",
     "shell.execute_reply": "2022-11-28T18:26:47.329175Z"
    },
    "id": "IfRh6LU6PEgY",
    "outputId": "f7116385-3118-4f4a-8b18-38c774eb9933",
    "papermill": {
     "duration": 0.298298,
     "end_time": "2022-11-28T18:26:47.332305",
     "exception": false,
     "start_time": "2022-11-28T18:26:47.034007",
     "status": "completed"
    },
    "tags": []
   },
   "outputs": [
    {
     "data": {
      "image/png": "[encoded data removed]",
      "text/plain": [
       "<Figure size 2160x360 with 2 Axes>"
      ]
     },
     "metadata": {
      "needs_background": "light"
     },
     "output_type": "display_data"
    }
   ],
   "source": [
    "fig,ax = plt.subplots(1,2,figsize=(30,5))\n",
    "ax[0].plot(scores_rfr['test_r2'])\n",
    "ax[1].plot(scores_rfr['test_neg_mean_squared_error'])\n",
    "plt.show();"
   ]
  },
  {
   "cell_type": "code",
   "execution_count": 61,
   "id": "60779808",
   "metadata": {
    "execution": {
     "iopub.execute_input": "2022-11-28T18:26:47.367688Z",
     "iopub.status.busy": "2022-11-28T18:26:47.366337Z",
     "iopub.status.idle": "2022-11-28T18:26:47.420778Z",
     "shell.execute_reply": "2022-11-28T18:26:47.419742Z"
    },
    "id": "kIJMV-86PMoe",
    "outputId": "73010b81-1f4b-4071-f425-7dde3436e7a1",
    "papermill": {
     "duration": 0.074225,
     "end_time": "2022-11-28T18:26:47.423372",
     "exception": false,
     "start_time": "2022-11-28T18:26:47.349147",
     "status": "completed"
    },
    "tags": []
   },
   "outputs": [
    {
     "name": "stdout",
     "output_type": "stream",
     "text": [
      "MAE test :  81121.08171349042\n",
      "RMSE test :  155913.96942144423\n",
      "RMSE test % :  14.617944185030677\n",
      "R Squared test :  0.9224739108726363\n"
     ]
    }
   ],
   "source": [
    "## Find the best model giving maximum R squared\n",
    "i = np.where(scores_rfr['test_r2'] == max(scores_rfr['test_r2']) )\n",
    "i = i[0][0]\n",
    "rf_regressor_cv = scores_rfr['estimator'][i]\n",
    "y_pred = rf_regressor_cv.predict(X_test)\n",
    "print(\"MAE test : \",  mean_absolute_error(y_test,y_pred))\n",
    "print(\"RMSE test : \",  np.sqrt(mean_squared_error(y_test,y_pred)))\n",
    "print(\"RMSE test % : \", np.sqrt(mean_squared_error(y_test,y_pred))*100/y_test.mean())\n",
    "print(\"R Squared test : \", r2_score(y_test,y_pred) )  "
   ]
  },
  {
   "cell_type": "markdown",
   "id": "8fde6446",
   "metadata": {
    "id": "FvxDby_GSf6w",
    "papermill": {
     "duration": 0.016871,
     "end_time": "2022-11-28T18:26:47.456331",
     "exception": false,
     "start_time": "2022-11-28T18:26:47.439460",
     "status": "completed"
    },
    "tags": []
   },
   "source": [
    "<font color='blue'>\n",
    "<h3>\n",
    "* The models have improved alot after Label Encoding of Categorical feature Store and setting Month and Year featurs as integers <br>\n",
    "* R squared increased from around 10% to > 90% and mean error reduced from around 50% to 15% of mean target value\n",
    "</font>"
   ]
  },
  {
   "cell_type": "markdown",
   "id": "89cc4871",
   "metadata": {
    "id": "2F_vk0JmTPrv",
    "papermill": {
     "duration": 0.015916,
     "end_time": "2022-11-28T18:26:47.489143",
     "exception": false,
     "start_time": "2022-11-28T18:26:47.473227",
     "status": "completed"
    },
    "tags": []
   },
   "source": [
    "<font color='blue'>\n",
    "<h1> 9 Apply Re-Scaling on features.\n",
    "</font>"
   ]
  },
  {
   "cell_type": "markdown",
   "id": "292cfb25",
   "metadata": {
    "id": "QMYzIpJfGY8W",
    "papermill": {
     "duration": 0.01565,
     "end_time": "2022-11-28T18:26:47.520975",
     "exception": false,
     "start_time": "2022-11-28T18:26:47.505325",
     "status": "completed"
    },
    "tags": []
   },
   "source": [
    "<font color='blue'>\n",
    "<h3>\n",
    "9.1 Backup original Data Frame\n",
    "</font>"
   ]
  },
  {
   "cell_type": "code",
   "execution_count": 62,
   "id": "6064a61a",
   "metadata": {
    "execution": {
     "iopub.execute_input": "2022-11-28T18:26:47.554811Z",
     "iopub.status.busy": "2022-11-28T18:26:47.554423Z",
     "iopub.status.idle": "2022-11-28T18:26:47.559442Z",
     "shell.execute_reply": "2022-11-28T18:26:47.558108Z"
    },
    "id": "uEVqNOGAGBaL",
    "papermill": {
     "duration": 0.025032,
     "end_time": "2022-11-28T18:26:47.561905",
     "exception": false,
     "start_time": "2022-11-28T18:26:47.536873",
     "status": "completed"
    },
    "tags": []
   },
   "outputs": [],
   "source": [
    "df_wm_ori = df_wm"
   ]
  },
  {
   "cell_type": "markdown",
   "id": "91aecb6f",
   "metadata": {
    "id": "BdjBBmVwGjVH",
    "papermill": {
     "duration": 0.01572,
     "end_time": "2022-11-28T18:26:47.593743",
     "exception": false,
     "start_time": "2022-11-28T18:26:47.578023",
     "status": "completed"
    },
    "tags": []
   },
   "source": [
    "<font color='blue'>\n",
    "<h3>\n",
    "9.2 Transform Target Variable with Log Transform\n",
    "</font>"
   ]
  },
  {
   "cell_type": "code",
   "execution_count": 63,
   "id": "2d4a7505",
   "metadata": {
    "execution": {
     "iopub.execute_input": "2022-11-28T18:26:47.628663Z",
     "iopub.status.busy": "2022-11-28T18:26:47.628254Z",
     "iopub.status.idle": "2022-11-28T18:26:47.916236Z",
     "shell.execute_reply": "2022-11-28T18:26:47.915260Z"
    },
    "id": "1xTUB-ldNc4u",
    "outputId": "f0553b1f-02dc-448c-858e-6aea48ec5fc2",
    "papermill": {
     "duration": 0.308406,
     "end_time": "2022-11-28T18:26:47.918635",
     "exception": false,
     "start_time": "2022-11-28T18:26:47.610229",
     "status": "completed"
    },
    "tags": []
   },
   "outputs": [
    {
     "data": {
      "image/png": "[encoded data removed]",
      "text/plain": [
       "<Figure size 324x216 with 1 Axes>"
      ]
     },
     "metadata": {
      "needs_background": "light"
     },
     "output_type": "display_data"
    }
   ],
   "source": [
    "sns.displot(df_wm['Weekly_Sales'],kind='kde',fill=True,height=3,aspect=1.5);"
   ]
  },
  {
   "cell_type": "code",
   "execution_count": 64,
   "id": "f7f105bb",
   "metadata": {
    "execution": {
     "iopub.execute_input": "2022-11-28T18:26:47.955482Z",
     "iopub.status.busy": "2022-11-28T18:26:47.953934Z",
     "iopub.status.idle": "2022-11-28T18:26:47.960963Z",
     "shell.execute_reply": "2022-11-28T18:26:47.959971Z"
    },
    "id": "1nplUJyRaEFz",
    "papermill": {
     "duration": 0.027731,
     "end_time": "2022-11-28T18:26:47.963486",
     "exception": false,
     "start_time": "2022-11-28T18:26:47.935755",
     "status": "completed"
    },
    "tags": []
   },
   "outputs": [],
   "source": [
    "df_wm['Weekly_Sales'] = np.log(df_wm[['Weekly_Sales']])"
   ]
  },
  {
   "cell_type": "code",
   "execution_count": 65,
   "id": "2c21500b",
   "metadata": {
    "execution": {
     "iopub.execute_input": "2022-11-28T18:26:47.998784Z",
     "iopub.status.busy": "2022-11-28T18:26:47.998376Z",
     "iopub.status.idle": "2022-11-28T18:26:48.337300Z",
     "shell.execute_reply": "2022-11-28T18:26:48.336006Z"
    },
    "id": "wN0KuIAnFUT3",
    "outputId": "4c2a0c03-177d-4b9d-e908-bf1c12dc69ff",
    "papermill": {
     "duration": 0.359902,
     "end_time": "2022-11-28T18:26:48.340222",
     "exception": false,
     "start_time": "2022-11-28T18:26:47.980320",
     "status": "completed"
    },
    "tags": []
   },
   "outputs": [
    {
     "data": {
      "image/png": "[encoded data removed]",
      "text/plain": [
       "<Figure size 324x216 with 1 Axes>"
      ]
     },
     "metadata": {
      "needs_background": "light"
     },
     "output_type": "display_data"
    }
   ],
   "source": [
    "sns.displot(df_wm['Weekly_Sales'],kind='kde',fill=True,height=3,aspect=1.5);"
   ]
  },
  {
   "cell_type": "markdown",
   "id": "28db98d3",
   "metadata": {
    "id": "XFXCiXZ3Gugv",
    "papermill": {
     "duration": 0.016487,
     "end_time": "2022-11-28T18:26:48.373602",
     "exception": false,
     "start_time": "2022-11-28T18:26:48.357115",
     "status": "completed"
    },
    "tags": []
   },
   "source": [
    "<font color='blue'>\n",
    "<h3>\n",
    "9.3 Transform numeric source features with Standard Scalar\n",
    "</font>"
   ]
  },
  {
   "cell_type": "code",
   "execution_count": 66,
   "id": "3f85fb21",
   "metadata": {
    "execution": {
     "iopub.execute_input": "2022-11-28T18:26:48.410942Z",
     "iopub.status.busy": "2022-11-28T18:26:48.410144Z",
     "iopub.status.idle": "2022-11-28T18:26:49.775152Z",
     "shell.execute_reply": "2022-11-28T18:26:49.773898Z"
    },
    "id": "5SXpCYhrG0Zl",
    "outputId": "3816637a-be54-4f11-a486-d78bb36324a4",
    "papermill": {
     "duration": 1.386745,
     "end_time": "2022-11-28T18:26:49.777917",
     "exception": false,
     "start_time": "2022-11-28T18:26:48.391172",
     "status": "completed"
    },
    "tags": []
   },
   "outputs": [
    {
     "data": {
      "image/png": "[encoded data removed]",
      "text/plain": [
       "<Figure size 324x216 with 1 Axes>"
      ]
     },
     "metadata": {
      "needs_background": "light"
     },
     "output_type": "display_data"
    },
    {
     "data": {
      "image/png": "[encoded data removed]",
      "text/plain": [
       "<Figure size 324x216 with 1 Axes>"
      ]
     },
     "metadata": {
      "needs_background": "light"
     },
     "output_type": "display_data"
    },
    {
     "data": {
      "image/png": "[encoded data removed]",
      "text/plain": [
       "<Figure size 324x216 with 1 Axes>"
      ]
     },
     "metadata": {
      "needs_background": "light"
     },
     "output_type": "display_data"
    },
    {
     "data": {
      "image/png": "[encoded data removed]",
      "text/plain": [
       "<Figure size 324x216 with 1 Axes>"
      ]
     },
     "metadata": {
      "needs_background": "light"
     },
     "output_type": "display_data"
    }
   ],
   "source": [
    "sns.displot(data=df_wm, x='Temperature', kind='kde', fill=True, height=3, aspect=1.5);\n",
    "sns.displot(data=df_wm, x='Fuel_Price', kind='kde', fill=True, height=3, aspect=1.5);\n",
    "sns.displot(data=df_wm, x='CPI', kind='kde', fill=True, height=3, aspect=1.5);\n",
    "sns.displot(data=df_wm, x='Unemployment', kind='kde', fill=True, height=3, aspect=1.5);"
   ]
  },
  {
   "cell_type": "code",
   "execution_count": 67,
   "id": "8f8cd9cd",
   "metadata": {
    "execution": {
     "iopub.execute_input": "2022-11-28T18:26:49.818322Z",
     "iopub.status.busy": "2022-11-28T18:26:49.817894Z",
     "iopub.status.idle": "2022-11-28T18:26:49.834706Z",
     "shell.execute_reply": "2022-11-28T18:26:49.833383Z"
    },
    "id": "ARbO3NsEH49F",
    "outputId": "9ab8a29d-c1f3-4c22-f47f-cb659dbf6183",
    "papermill": {
     "duration": 0.040184,
     "end_time": "2022-11-28T18:26:49.837598",
     "exception": false,
     "start_time": "2022-11-28T18:26:49.797414",
     "status": "completed"
    },
    "tags": []
   },
   "outputs": [
    {
     "data": {
      "text/plain": [
       "StandardScaler()"
      ]
     },
     "execution_count": 67,
     "metadata": {},
     "output_type": "execute_result"
    }
   ],
   "source": [
    "Std_Scaler = StandardScaler()\n",
    "Std_Scaler.fit(df_wm[['Temperature','Fuel_Price','CPI','Unemployment']])\n",
    "\n",
    "df_wm[['Temperature','Fuel_Price','CPI','Unemployment']] = Std_Scaler.transform(df_wm[['Temperature','Fuel_Price','CPI','Unemployment']])"
   ]
  },
  {
   "cell_type": "code",
   "execution_count": 68,
   "id": "3cd2b398",
   "metadata": {
    "execution": {
     "iopub.execute_input": "2022-11-28T18:26:49.876657Z",
     "iopub.status.busy": "2022-11-28T18:26:49.876220Z",
     "iopub.status.idle": "2022-11-28T18:26:51.206643Z",
     "shell.execute_reply": "2022-11-28T18:26:51.205076Z"
    },
    "id": "0vmUdKoIH96S",
    "outputId": "a80637b9-b631-423b-fd36-2c739a8ad984",
    "papermill": {
     "duration": 1.353346,
     "end_time": "2022-11-28T18:26:51.209393",
     "exception": false,
     "start_time": "2022-11-28T18:26:49.856047",
     "status": "completed"
    },
    "tags": []
   },
   "outputs": [
    {
     "data": {
      "image/png": "[encoded data removed]",
      "text/plain": [
       "<Figure size 324x216 with 1 Axes>"
      ]
     },
     "metadata": {
      "needs_background": "light"
     },
     "output_type": "display_data"
    },
    {
     "data": {
      "image/png": "[encoded data removed]",
      "text/plain": [
       "<Figure size 324x216 with 1 Axes>"
      ]
     },
     "metadata": {
      "needs_background": "light"
     },
     "output_type": "display_data"
    },
    {
     "data": {
      "image/png": "[encoded data removed]",
      "text/plain": [
       "<Figure size 324x216 with 1 Axes>"
      ]
     },
     "metadata": {
      "needs_background": "light"
     },
     "output_type": "display_data"
    },
    {
     "data": {
      "image/png": "[encoded data removed]",
      "text/plain": [
       "<Figure size 324x216 with 1 Axes>"
      ]
     },
     "metadata": {
      "needs_background": "light"
     },
     "output_type": "display_data"
    }
   ],
   "source": [
    "sns.displot(data=df_wm, x='Temperature', kind='kde', fill=True, height=3, aspect=1.5);\n",
    "sns.displot(data=df_wm, x='Fuel_Price', kind='kde', fill=True, height=3, aspect=1.5);\n",
    "sns.displot(data=df_wm, x='CPI', kind='kde', fill=True, height=3, aspect=1.5);\n",
    "sns.displot(data=df_wm, x='Unemployment', kind='kde', fill=True, height=3, aspect=1.5);"
   ]
  },
  {
   "cell_type": "markdown",
   "id": "ed905e18",
   "metadata": {
    "id": "DYl5S2nDJcvq",
    "papermill": {
     "duration": 0.020065,
     "end_time": "2022-11-28T18:26:51.249480",
     "exception": false,
     "start_time": "2022-11-28T18:26:51.229415",
     "status": "completed"
    },
    "tags": []
   },
   "source": [
    "<font color='blue'>\n",
    "<h2> 10 Run Random Forest Regression on Re-Scaled Data\n",
    "</font>\n",
    "\n",
    "<font color='blue'>\n",
    "<h2> 10.1 Random Forest Parameter Tuning with Grid Search CV\n",
    "</font>"
   ]
  },
  {
   "cell_type": "code",
   "execution_count": 69,
   "id": "f3330d68",
   "metadata": {
    "execution": {
     "iopub.execute_input": "2022-11-28T18:26:51.292393Z",
     "iopub.status.busy": "2022-11-28T18:26:51.291151Z",
     "iopub.status.idle": "2022-11-28T18:26:51.301131Z",
     "shell.execute_reply": "2022-11-28T18:26:51.300235Z"
    },
    "id": "gY6Gqn8NJnva",
    "papermill": {
     "duration": 0.033837,
     "end_time": "2022-11-28T18:26:51.303630",
     "exception": false,
     "start_time": "2022-11-28T18:26:51.269793",
     "status": "completed"
    },
    "tags": []
   },
   "outputs": [],
   "source": [
    "## Decision Tree does not work with Dates So take all fields\n",
    "y = df_wm['Weekly_Sales']\n",
    "X = df_wm.loc[ : , (df_wm.columns != 'Weekly_Sales') & (df_wm.columns != 'Date') & (df_wm.columns != 'Store')]\n",
    "X_train, X_test, y_train, y_test = train_test_split( X, y,test_size = 0.3,shuffle = True)"
   ]
  },
  {
   "cell_type": "code",
   "execution_count": 70,
   "id": "ac57f068",
   "metadata": {
    "execution": {
     "iopub.execute_input": "2022-11-28T18:26:51.345659Z",
     "iopub.status.busy": "2022-11-28T18:26:51.344209Z",
     "iopub.status.idle": "2022-11-28T18:37:28.858452Z",
     "shell.execute_reply": "2022-11-28T18:37:28.856827Z"
    },
    "id": "gIfX--mhNF1Y",
    "outputId": "1cc5c3ce-2b3e-4b75-849c-e50d56025332",
    "papermill": {
     "duration": 637.55778,
     "end_time": "2022-11-28T18:37:28.881086",
     "exception": false,
     "start_time": "2022-11-28T18:26:51.323306",
     "status": "completed"
    },
    "tags": []
   },
   "outputs": [
    {
     "name": "stdout",
     "output_type": "stream",
     "text": [
      "Fitting 5 folds for each of 36 candidates, totalling 180 fits\n"
     ]
    },
    {
     "data": {
      "text/plain": [
       "GridSearchCV(cv=5, estimator=RandomForestRegressor(random_state=0), n_jobs=3,\n",
       "             param_grid={'max_depth': [50, 100, 200, 250, 300, 500],\n",
       "                         'n_estimators': [50, 100, 200, 250, 300, 500]},\n",
       "             return_train_score=True, scoring='r2', verbose=3)"
      ]
     },
     "execution_count": 70,
     "metadata": {},
     "output_type": "execute_result"
    }
   ],
   "source": [
    "rf_regressor = RandomForestRegressor(random_state=0)\n",
    "\n",
    "parameters = {'max_depth': [50,100,200,250,300,500],\n",
    "              'n_estimators': [50,100,200, 250,300,500]}\n",
    "              \n",
    "#clf= GridSearchCV(rf_regressor, parameters,cv=5,scoring=('r2','neg_mean_squared_error'),n_jobs=2,refit=False,verbose=3,return_train_score=True ) -- Did not give best_score_ or best_estimator\n",
    "clf= GridSearchCV(rf_regressor, parameters,cv=5,scoring='r2',n_jobs=3,refit=True,verbose=3,return_train_score=True )\n",
    "clf.fit(X_train,y_train)"
   ]
  },
  {
   "cell_type": "code",
   "execution_count": 71,
   "id": "2325fb8e",
   "metadata": {
    "execution": {
     "iopub.execute_input": "2022-11-28T18:37:28.924196Z",
     "iopub.status.busy": "2022-11-28T18:37:28.923788Z",
     "iopub.status.idle": "2022-11-28T18:37:28.934634Z",
     "shell.execute_reply": "2022-11-28T18:37:28.933361Z"
    },
    "id": "Eed9aqXg7R4O",
    "outputId": "f4bdf948-5941-4198-fed8-93e8a188bea4",
    "papermill": {
     "duration": 0.035537,
     "end_time": "2022-11-28T18:37:28.937038",
     "exception": false,
     "start_time": "2022-11-28T18:37:28.901501",
     "status": "completed"
    },
    "tags": []
   },
   "outputs": [
    {
     "data": {
      "text/plain": [
       "0.9660060567041594"
      ]
     },
     "execution_count": 71,
     "metadata": {},
     "output_type": "execute_result"
    },
    {
     "data": {
      "text/plain": [
       "RandomForestRegressor(max_depth=50, n_estimators=500, random_state=0)"
      ]
     },
     "execution_count": 71,
     "metadata": {},
     "output_type": "execute_result"
    }
   ],
   "source": [
    "#sorted(clf.cv_results_.keys())\n",
    "#clf.cv_results_.('mean_fit_time')\n",
    "clf.best_score_\n",
    "clf.best_estimator_"
   ]
  },
  {
   "cell_type": "code",
   "execution_count": 72,
   "id": "1a1d5aa8",
   "metadata": {
    "execution": {
     "iopub.execute_input": "2022-11-28T18:37:28.981207Z",
     "iopub.status.busy": "2022-11-28T18:37:28.980478Z",
     "iopub.status.idle": "2022-11-28T18:37:29.376374Z",
     "shell.execute_reply": "2022-11-28T18:37:29.374923Z"
    },
    "id": "YvrjvhUaKzof",
    "outputId": "4b49a18d-d9da-4404-d28e-f43b80802efb",
    "papermill": {
     "duration": 0.420609,
     "end_time": "2022-11-28T18:37:29.379232",
     "exception": false,
     "start_time": "2022-11-28T18:37:28.958623",
     "status": "completed"
    },
    "tags": []
   },
   "outputs": [
    {
     "name": "stdout",
     "output_type": "stream",
     "text": [
      "MAE test :  0.06673396010529455\n",
      "RMSE test :  0.10504642401754252\n",
      "explained_variance_score test :  0.9681558210703892\n",
      "RMSE test % :  0.766218507922361\n",
      "R Squared test :  0.9681374990798848\n"
     ]
    }
   ],
   "source": [
    "# Trying basic random forest with 50 estimators\n",
    "rf_regressor = clf.best_estimator_\n",
    "y_pred = rf_regressor.predict(X_test)\n",
    "print(\"MAE test : \",  mean_absolute_error(y_test,y_pred))\n",
    "print(\"RMSE test : \",  np.sqrt(mean_squared_error(y_test,y_pred)))\n",
    "print(\"explained_variance_score test : \", explained_variance_score(y_test,y_pred))\n",
    "print(\"RMSE test % : \", np.sqrt(mean_squared_error(y_test,y_pred))*100/y_test.mean())\n",
    "print(\"R Squared test : \", r2_score(y_test,y_pred) )  "
   ]
  },
  {
   "cell_type": "code",
   "execution_count": 73,
   "id": "bbd9f5c2",
   "metadata": {
    "execution": {
     "iopub.execute_input": "2022-11-28T18:37:29.421717Z",
     "iopub.status.busy": "2022-11-28T18:37:29.421325Z",
     "iopub.status.idle": "2022-11-28T18:37:29.875620Z",
     "shell.execute_reply": "2022-11-28T18:37:29.874442Z"
    },
    "id": "jgNyfTd_Li5A",
    "outputId": "9a96a63c-a210-49a4-8dc7-801fe75b3b8e",
    "papermill": {
     "duration": 0.478748,
     "end_time": "2022-11-28T18:37:29.878247",
     "exception": false,
     "start_time": "2022-11-28T18:37:29.399499",
     "status": "completed"
    },
    "tags": []
   },
   "outputs": [
    {
     "name": "stderr",
     "output_type": "stream",
     "text": [
      "/Users/aishwarya/opt/anaconda3/lib/python3.9/site-packages/seaborn/_decorators.py:36: FutureWarning: Pass the following variables as keyword args: x, y. From version 0.12, the only valid positional argument will be `data`, and passing other arguments without an explicit keyword will result in an error or misinterpretation.\n",
      "  warnings.warn(\n"
     ]
    },
    {
     "data": {
      "image/png": "[encoded data removed]",
      "text/plain": [
       "<Figure size 576x576 with 1 Axes>"
      ]
     },
     "metadata": {
      "needs_background": "light"
     },
     "output_type": "display_data"
    }
   ],
   "source": [
    "plt.figure(figsize=(8,8))\n",
    "sns.scatterplot(y_test,y_pred)\n",
    "m,b = np.polyfit(np.array(y_test), np. array(y_pred),1)\n",
    "plt. plot(np.array(y_test), m * np.array(y_test) + b,color='red')\n",
    "plt.title(\"Results\", fontsize=16)\n",
    "plt.xlabel(\"Real\", fontsize=14)\n",
    "plt.ylabel(\"Predicted\", fontsize=14)\n",
    "plt.show();"
   ]
  },
  {
   "cell_type": "code",
   "execution_count": 74,
   "id": "e1a307ba",
   "metadata": {
    "execution": {
     "iopub.execute_input": "2022-11-28T18:37:29.923948Z",
     "iopub.status.busy": "2022-11-28T18:37:29.923141Z",
     "iopub.status.idle": "2022-11-28T18:37:30.228321Z",
     "shell.execute_reply": "2022-11-28T18:37:30.226855Z"
    },
    "id": "8GuRznv_T71-",
    "outputId": "99503d16-df74-4137-a875-15526f55e6cd",
    "papermill": {
     "duration": 0.331469,
     "end_time": "2022-11-28T18:37:30.231298",
     "exception": false,
     "start_time": "2022-11-28T18:37:29.899829",
     "status": "completed"
    },
    "tags": []
   },
   "outputs": [
    {
     "name": "stderr",
     "output_type": "stream",
     "text": [
      "/Users/aishwarya/opt/anaconda3/lib/python3.9/site-packages/seaborn/distributions.py:2619: FutureWarning: `distplot` is a deprecated function and will be removed in a future version. Please adapt your code to use either `displot` (a figure-level function with similar flexibility) or `kdeplot` (an axes-level function for kernel density plots).\n",
      "  warnings.warn(msg, FutureWarning)\n",
      "/Users/aishwarya/opt/anaconda3/lib/python3.9/site-packages/seaborn/distributions.py:2103: FutureWarning: The `axis` variable is no longer used and will be removed. Instead, assign variables directly to `x` or `y`.\n",
      "  warnings.warn(msg, FutureWarning)\n",
      "/Users/aishwarya/opt/anaconda3/lib/python3.9/site-packages/seaborn/distributions.py:2619: FutureWarning: `distplot` is a deprecated function and will be removed in a future version. Please adapt your code to use either `displot` (a figure-level function with similar flexibility) or `kdeplot` (an axes-level function for kernel density plots).\n",
      "  warnings.warn(msg, FutureWarning)\n",
      "/Users/aishwarya/opt/anaconda3/lib/python3.9/site-packages/seaborn/distributions.py:2103: FutureWarning: The `axis` variable is no longer used and will be removed. Instead, assign variables directly to `x` or `y`.\n",
      "  warnings.warn(msg, FutureWarning)\n"
     ]
    },
    {
     "data": {
      "image/png": "[encoded data removed]",
      "text/plain": [
       "<Figure size 432x288 with 1 Axes>"
      ]
     },
     "metadata": {
      "needs_background": "light"
     },
     "output_type": "display_data"
    }
   ],
   "source": [
    "sns.distplot(y_pred,hist=False, rug=True)\n",
    "sns.distplot(y_test,hist=False, rug=True);"
   ]
  },
  {
   "cell_type": "markdown",
   "id": "260c8557",
   "metadata": {
    "id": "3hAiG-erL2_P",
    "papermill": {
     "duration": 0.022025,
     "end_time": "2022-11-28T18:37:30.276190",
     "exception": false,
     "start_time": "2022-11-28T18:37:30.254165",
     "status": "completed"
    },
    "tags": []
   },
   "source": [
    "<font color='blue'>\n",
    "<h3>\n",
    "* There is clear improvement in model after Re-Scaling of features<br>\n",
    "* R squared has increased to > 96% and Error % reduced to only 0.78%\n",
    "</font>"
   ]
  },
  {
   "cell_type": "markdown",
   "id": "a9f103d2",
   "metadata": {
    "id": "86b7qhLQKtfL",
    "papermill": {
     "duration": 0.021444,
     "end_time": "2022-11-28T18:37:30.320095",
     "exception": false,
     "start_time": "2022-11-28T18:37:30.298651",
     "status": "completed"
    },
    "tags": []
   },
   "source": [
    "<font color='blue'>\n",
    "<h2> 11 XGBoost Regression\n",
    "</font>\n",
    "\n",
    "<font color='blue'>\n",
    "<h2> 10.1 Single XGBoost model\n",
    "</font>"
   ]
  },
  {
   "cell_type": "code",
   "execution_count": 75,
   "id": "466ff097",
   "metadata": {
    "execution": {
     "iopub.execute_input": "2022-11-28T18:37:30.366366Z",
     "iopub.status.busy": "2022-11-28T18:37:30.365626Z",
     "iopub.status.idle": "2022-11-28T18:37:30.369889Z",
     "shell.execute_reply": "2022-11-28T18:37:30.368971Z"
    },
    "id": "adjLaVOUQ0q1",
    "papermill": {
     "duration": 0.030228,
     "end_time": "2022-11-28T18:37:30.372184",
     "exception": false,
     "start_time": "2022-11-28T18:37:30.341956",
     "status": "completed"
    },
    "tags": []
   },
   "outputs": [],
   "source": [
    "#XGBoost(verbosity=2,)"
   ]
  },
  {
   "cell_type": "markdown",
   "id": "183c744f",
   "metadata": {
    "id": "_3o-Y0POLUid",
    "papermill": {
     "duration": 0.02156,
     "end_time": "2022-11-28T18:37:30.416196",
     "exception": false,
     "start_time": "2022-11-28T18:37:30.394636",
     "status": "completed"
    },
    "tags": []
   },
   "source": [
    "<font color='blue'>\n",
    "<h2> 13 Inverse Transform to get actual values of Weekly_Sales\n",
    "</font>"
   ]
  },
  {
   "cell_type": "code",
   "execution_count": 76,
   "id": "afc37ad2",
   "metadata": {
    "execution": {
     "iopub.execute_input": "2022-11-28T18:37:30.462553Z",
     "iopub.status.busy": "2022-11-28T18:37:30.461848Z",
     "iopub.status.idle": "2022-11-28T18:37:30.484221Z",
     "shell.execute_reply": "2022-11-28T18:37:30.483361Z"
    },
    "id": "HbCnFP1NLTl7",
    "outputId": "1f360e8e-4b16-4e86-e3fd-114cc404960c",
    "papermill": {
     "duration": 0.04889,
     "end_time": "2022-11-28T18:37:30.486893",
     "exception": false,
     "start_time": "2022-11-28T18:37:30.438003",
     "status": "completed"
    },
    "tags": []
   },
   "outputs": [
    {
     "data": {
      "text/html": [
       "<div>\n",
       "<style scoped>\n",
       "    .dataframe tbody tr th:only-of-type {\n",
       "        vertical-align: middle;\n",
       "    }\n",
       "\n",
       "    .dataframe tbody tr th {\n",
       "        vertical-align: top;\n",
       "    }\n",
       "\n",
       "    .dataframe thead th {\n",
       "        text-align: right;\n",
       "    }\n",
       "</style>\n",
       "<table border=\"1\" class=\"dataframe\">\n",
       "  <thead>\n",
       "    <tr style=\"text-align: right;\">\n",
       "      <th></th>\n",
       "      <th>y_pred_orig</th>\n",
       "      <th>y_test_orig</th>\n",
       "      <th>error</th>\n",
       "      <th>Per_Error</th>\n",
       "    </tr>\n",
       "  </thead>\n",
       "  <tbody>\n",
       "    <tr>\n",
       "      <th>0</th>\n",
       "      <td>1.947836e+06</td>\n",
       "      <td>1.939061e+06</td>\n",
       "      <td>8774.351811</td>\n",
       "      <td>0.004525</td>\n",
       "    </tr>\n",
       "    <tr>\n",
       "      <th>1</th>\n",
       "      <td>4.219546e+05</td>\n",
       "      <td>5.569253e+05</td>\n",
       "      <td>-134970.673317</td>\n",
       "      <td>-0.242350</td>\n",
       "    </tr>\n",
       "    <tr>\n",
       "      <th>2</th>\n",
       "      <td>8.541031e+05</td>\n",
       "      <td>7.796028e+05</td>\n",
       "      <td>74500.389413</td>\n",
       "      <td>0.095562</td>\n",
       "    </tr>\n",
       "    <tr>\n",
       "      <th>3</th>\n",
       "      <td>5.061174e+05</td>\n",
       "      <td>5.251324e+05</td>\n",
       "      <td>-19014.999823</td>\n",
       "      <td>-0.036210</td>\n",
       "    </tr>\n",
       "    <tr>\n",
       "      <th>4</th>\n",
       "      <td>7.902385e+05</td>\n",
       "      <td>8.101508e+05</td>\n",
       "      <td>-19912.316438</td>\n",
       "      <td>-0.024579</td>\n",
       "    </tr>\n",
       "    <tr>\n",
       "      <th>5</th>\n",
       "      <td>2.167191e+06</td>\n",
       "      <td>2.427642e+06</td>\n",
       "      <td>-260450.350705</td>\n",
       "      <td>-0.107285</td>\n",
       "    </tr>\n",
       "    <tr>\n",
       "      <th>6</th>\n",
       "      <td>1.276376e+06</td>\n",
       "      <td>1.604605e+06</td>\n",
       "      <td>-328229.602739</td>\n",
       "      <td>-0.204555</td>\n",
       "    </tr>\n",
       "    <tr>\n",
       "      <th>7</th>\n",
       "      <td>2.008748e+06</td>\n",
       "      <td>1.799520e+06</td>\n",
       "      <td>209228.340429</td>\n",
       "      <td>0.116269</td>\n",
       "    </tr>\n",
       "    <tr>\n",
       "      <th>8</th>\n",
       "      <td>1.573917e+06</td>\n",
       "      <td>1.606629e+06</td>\n",
       "      <td>-32712.864888</td>\n",
       "      <td>-0.020361</td>\n",
       "    </tr>\n",
       "    <tr>\n",
       "      <th>9</th>\n",
       "      <td>1.296497e+06</td>\n",
       "      <td>1.327036e+06</td>\n",
       "      <td>-30538.808239</td>\n",
       "      <td>-0.023013</td>\n",
       "    </tr>\n",
       "  </tbody>\n",
       "</table>\n",
       "</div>"
      ],
      "text/plain": [
       "    y_pred_orig   y_test_orig          error  Per_Error\n",
       "0  1.947836e+06  1.939061e+06    8774.351811   0.004525\n",
       "1  4.219546e+05  5.569253e+05 -134970.673317  -0.242350\n",
       "2  8.541031e+05  7.796028e+05   74500.389413   0.095562\n",
       "3  5.061174e+05  5.251324e+05  -19014.999823  -0.036210\n",
       "4  7.902385e+05  8.101508e+05  -19912.316438  -0.024579\n",
       "5  2.167191e+06  2.427642e+06 -260450.350705  -0.107285\n",
       "6  1.276376e+06  1.604605e+06 -328229.602739  -0.204555\n",
       "7  2.008748e+06  1.799520e+06  209228.340429   0.116269\n",
       "8  1.573917e+06  1.606629e+06  -32712.864888  -0.020361\n",
       "9  1.296497e+06  1.327036e+06  -30538.808239  -0.023013"
      ]
     },
     "execution_count": 76,
     "metadata": {},
     "output_type": "execute_result"
    }
   ],
   "source": [
    "y_pred_orig = np.exp([y_pred])\n",
    "y_pred_orig=y_pred_orig[0]\n",
    "y_test_orig = np.exp([y_test])\n",
    "y_test_orig=y_test_orig[0]\n",
    "error = y_pred_orig - y_test_orig\n",
    "Result=pd.DataFrame(\n",
    "    {'y_pred_orig': y_pred_orig,\n",
    "     'y_test_orig': y_test_orig,\n",
    "     'error': error\n",
    "    })\n",
    "Result['Per_Error'] = Result['error'] / Result['y_test_orig']\n",
    "Result.head(10)"
   ]
  },
  {
   "cell_type": "markdown",
   "id": "a78e3262",
   "metadata": {
    "id": "9NyXssO2QnLh",
    "papermill": {
     "duration": 0.021884,
     "end_time": "2022-11-28T18:37:30.533265",
     "exception": false,
     "start_time": "2022-11-28T18:37:30.511381",
     "status": "completed"
    },
    "tags": []
   },
   "source": []
  },
  {
   "cell_type": "code",
   "execution_count": null,
   "id": "f8aee5b9",
   "metadata": {},
   "outputs": [],
   "source": []
  }
 ],
 "metadata": {
  "kernelspec": {
   "display_name": "Python 3 (ipykernel)",
   "language": "python",
   "name": "python3"
  },
  "language_info": {
   "codemirror_mode": {
    "name": "ipython",
    "version": 3
   },
   "file_extension": ".py",
   "mimetype": "text/x-python",
   "name": "python",
   "nbconvert_exporter": "python",
   "pygments_lexer": "ipython3",
   "version": "3.9.12"
  },
  "papermill": {
   "default_parameters": {},
   "duration": 671.229348,
   "end_time": "2022-11-28T18:37:33.178730",
   "environment_variables": {},
   "exception": null,
   "input_path": "__notebook__.ipynb",
   "output_path": "__notebook__.ipynb",
   "parameters": {},
   "start_time": "2022-11-28T18:26:21.949382",
   "version": "2.3.4"
  }
 },
 "nbformat": 4,
 "nbformat_minor": 5
}
